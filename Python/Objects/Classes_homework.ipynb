{
 "cells": [
  {
   "cell_type": "markdown",
   "metadata": {},
   "source": [
    "### Задание 1\n",
    "\n",
    "Напишите функцию, которая возвращает название валюты (поле ‘Name’) с максимальным значением курса\n",
    "с помощью сервиса https://www.cbr-xml-daily.ru/daily_json.js ."
   ]
  },
  {
   "cell_type": "code",
   "execution_count": 17,
   "metadata": {},
   "outputs": [
    {
     "name": "stdout",
     "output_type": "stream",
     "text": [
      "СДР (специальные права заимствования)\n"
     ]
    }
   ],
   "source": [
    "def max_rate_currency():\n",
    "    import requests\n",
    "    info = requests.get('https://www.cbr-xml-daily.ru/daily_json.js')\n",
    "    currency_dict = info.json()['Valute']\n",
    "    max_rate = 0\n",
    "    name = 'RUB'\n",
    "    for currency in currency_dict.keys():\n",
    "        if currency_dict[currency]['Value'] / currency_dict[currency]['Nominal'] > max_rate:\n",
    "            max_rate, name = currency_dict[currency]['Value'], currency_dict[currency]['Name']\n",
    "    return name\n",
    "\n",
    "print(max_rate_currency())"
   ]
  },
  {
   "cell_type": "markdown",
   "metadata": {},
   "source": [
    "### Задание 2\n",
    "Добавьте в класс Rate параметр diff (со значениями True или False),\n",
    "который в случае значения True в методах eur и usd будет возвращать\n",
    "не курс валюты, а изменение по сравнению c прошлым значением.\n",
    "Считайте, self.diff будет принимать значение True только при возврате\n",
    "значения курса. При отображении всей информации о валюте он не используется."
   ]
  },
  {
   "cell_type": "code",
   "execution_count": 38,
   "metadata": {},
   "outputs": [],
   "source": [
    "class Rate:\n",
    "    \"\"\"\n",
    "    \n",
    "    \"\"\"\n",
    "    def __init__(self, format_='value', diff_=False):\n",
    "        self.format = format_\n",
    "        self.diff = diff_\n",
    "        \n",
    "        if self.format == 'full':\n",
    "            selff.diff = False\n",
    "    \n",
    "    def exchange_rates(self):\n",
    "        \"\"\"\n",
    "        Возвращает ответ сервиса с информацией о валютах в виде:\n",
    "        \n",
    "        {\n",
    "            'AMD': {\n",
    "                'CharCode': 'AMD',\n",
    "                'ID': 'R01060',\n",
    "                'Name': 'Армянских драмов',\n",
    "                'Nominal': 100,\n",
    "                'NumCode': '051',\n",
    "                'Previous': 14.103,\n",
    "                'Value': 14.0879\n",
    "                },\n",
    "            ...\n",
    "        }\n",
    "        \"\"\"\n",
    "        self.r = requests.get('https://www.cbr-xml-daily.ru/daily_json.js')\n",
    "        return self.r.json()['Valute']\n",
    "    \n",
    "    def make_format(self, currency):\n",
    "        \"\"\"\n",
    "        Возвращает информацию о валюте currency в двух вариантах:\n",
    "        - полная информация о валюте при self.format = 'full':\n",
    "        Rate('full').make_format('EUR')\n",
    "        {\n",
    "            'CharCode': 'EUR',\n",
    "            'ID': 'R01239',\n",
    "            'Name': 'Евро',\n",
    "            'Nominal': 1,\n",
    "            'NumCode': '978',\n",
    "            'Previous': 79.6765,\n",
    "            'Value': 79.4966\n",
    "        }\n",
    "        \n",
    "        Rate('value').make_format('EUR')\n",
    "        79.4966\n",
    "        \"\"\"\n",
    "        response = self.exchange_rates()\n",
    "        \n",
    "        if currency in response:\n",
    "            if self.format == 'full':\n",
    "                return response[currency]\n",
    "            \n",
    "            if self.format == 'value':\n",
    "                return response[currency]['Value']\n",
    "        \n",
    "        return 'Error'\n",
    "    \n",
    "    def difference(self, currency):\n",
    "        \"\"\"возвращает изменение курса валюты по сравнению c прошлым значением\"\"\"\n",
    "        response = self.exchange_rates()\n",
    "        print(type(response[currency]['Value'] ))\n",
    "        print(type(response[currency]['Previous']))\n",
    "        return response[currency]['Value'] - response[currency]['Previous']\n",
    "    \n",
    "    def eur(self):\n",
    "        \"\"\"Возвращает курс евро на сегодня в формате self.format\"\"\"\n",
    "        if self.diff:\n",
    "            return self.difference('EUR')\n",
    "        else:\n",
    "            return self.make_format('EUR')\n",
    "    \n",
    "    def usd(self):\n",
    "        \"\"\"Возвращает курс доллара на сегодня в формате self.format\"\"\"\n",
    "        if self.diff:\n",
    "            return self.difference('USD')\n",
    "        else:\n",
    "            return self.make_format('USD')\n",
    "    \n",
    "    def brl(self):\n",
    "        \"\"\"Возвращает курс бразильского реала на сегодня в формате self.format\"\"\"\n",
    "        return self.make_format('BRL')"
   ]
  },
  {
   "cell_type": "code",
   "execution_count": 39,
   "metadata": {},
   "outputs": [
    {
     "name": "stdout",
     "output_type": "stream",
     "text": [
      "<class 'float'>\n",
      "<class 'float'>\n",
      "0.5989000000000004\n"
     ]
    }
   ],
   "source": [
    "a = Rate(format_='value', diff_=True)\n",
    "print(a.eur())"
   ]
  },
  {
   "cell_type": "markdown",
   "metadata": {},
   "source": [
    "### Задание 3\n",
    "Напишите класс Designer, который учитывает количество международных премий. Подсказки в коде занятия в разделе “Домашнее задание задача 3”."
   ]
  },
  {
   "cell_type": "code",
   "execution_count": 49,
   "metadata": {},
   "outputs": [],
   "source": [
    "class Employee:\n",
    "    def __init__(self, name, seniority):\n",
    "        self.name = name\n",
    "        self.seniority = seniority\n",
    "        \n",
    "        self.grade = 1\n",
    "    \n",
    "    def grade_check(self):\n",
    "        \"\"\"Повышает уровень сотрудника\"\"\"\n",
    "        self.grade = self.seniority // 7\n",
    "    \n",
    "    def publish_grade(self):\n",
    "        \"\"\"Публикация результатов аккредитации сотрудников\"\"\"\n",
    "        print(self.name, self.grade)\n",
    "    \n",
    "    def check_if_it_is_time_for_upgrade(self):\n",
    "        pass"
   ]
  },
  {
   "cell_type": "code",
   "execution_count": 59,
   "metadata": {},
   "outputs": [],
   "source": [
    "class Designer(Employee):\n",
    "    def __init__(self, name, seniority, awards=2):\n",
    "        super().__init__(name, seniority)\n",
    "        self.awards = 2\n",
    "        self.seniority += self.awards*2\n",
    "        \n",
    "        self.grade += self.seniority // 7\n",
    "        \n",
    "    def get_one_award(self):\n",
    "        self.awards += 1\n",
    "        self.seniority += 2\n",
    "        self.grade_check()\n",
    "        \n",
    "    def publish_grade(self):\n",
    "        super().publish_grade()\n",
    "        print('seniority', self.seniority, 'awards', self.awards, '\\n')\n",
    "        \n",
    "    def check_if_it_is_time_for_upgrade(self):\n",
    "        # для каждой аккредитации увеличиваем счетчик на 1\n",
    "        # пока считаем, что все разработчики проходят аккредитацию\n",
    "        self.seniority += 1\n",
    "\n",
    "        self.grade_check()\n",
    "\n",
    "        # публикация результатов\n",
    "        return self.publish_grade()"
   ]
  },
  {
   "cell_type": "code",
   "execution_count": 60,
   "metadata": {},
   "outputs": [
    {
     "name": "stdout",
     "output_type": "stream",
     "text": [
      "Елена 0\n",
      "seniority 5 awards 2 \n",
      "\n",
      "Елена 0\n",
      "seniority 6 awards 2 \n",
      "\n",
      "Елена 1\n",
      "seniority 7 awards 2 \n",
      "\n",
      "Елена 1\n",
      "seniority 8 awards 2 \n",
      "\n",
      "Елена 1\n",
      "seniority 9 awards 2 \n",
      "\n",
      "Елена 1\n",
      "seniority 10 awards 2 \n",
      "\n",
      "Елена 1\n",
      "seniority 11 awards 2 \n",
      "\n",
      "Елена 1\n",
      "seniority 12 awards 2 \n",
      "\n",
      "Елена 1\n",
      "seniority 13 awards 2 \n",
      "\n",
      "Елена 2\n",
      "seniority 14 awards 2 \n",
      "\n",
      "Елена 2\n",
      "seniority 15 awards 2 \n",
      "\n",
      "Елена 2\n",
      "seniority 16 awards 2 \n",
      "\n",
      "Елена 2\n",
      "seniority 17 awards 2 \n",
      "\n",
      "Елена 2\n",
      "seniority 18 awards 2 \n",
      "\n",
      "Елена 2\n",
      "seniority 19 awards 2 \n",
      "\n",
      "Елена 2\n",
      "seniority 20 awards 2 \n",
      "\n",
      "Елена 3\n",
      "seniority 21 awards 2 \n",
      "\n",
      "Елена 3\n",
      "seniority 22 awards 2 \n",
      "\n",
      "Елена 3\n",
      "seniority 23 awards 2 \n",
      "\n",
      "Елена 3\n",
      "seniority 24 awards 2 \n",
      "\n"
     ]
    }
   ],
   "source": [
    "elena = Designer('Елена', seniority=0, awards=2)\n",
    "\n",
    "for i in range(20):\n",
    "    elena.check_if_it_is_time_for_upgrade()"
   ]
  }
 ],
 "metadata": {
  "kernelspec": {
   "display_name": "Python 3",
   "language": "python",
   "name": "python3"
  },
  "language_info": {
   "codemirror_mode": {
    "name": "ipython",
    "version": 3
   },
   "file_extension": ".py",
   "mimetype": "text/x-python",
   "name": "python",
   "nbconvert_exporter": "python",
   "pygments_lexer": "ipython3",
   "version": "3.8.3"
  }
 },
 "nbformat": 4,
 "nbformat_minor": 4
}
