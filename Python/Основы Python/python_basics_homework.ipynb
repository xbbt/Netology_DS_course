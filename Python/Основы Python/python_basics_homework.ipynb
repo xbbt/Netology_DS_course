{
 "cells": [
  {
   "cell_type": "markdown",
   "metadata": {},
   "source": [
    "**Задание 1**. Даны 2 строки: *long_phrase* и *short_phrase*. \n",
    "Напишите код, который проверяет действительно ли длинная фраза *long_phrase* длиннее короткой *short_phrase*. И выводит *True* или *False* в зависимости от результата сравнения."
   ]
  },
  {
   "cell_type": "code",
   "execution_count": 2,
   "metadata": {},
   "outputs": [],
   "source": [
    "long_phrase = 'Насколько проще было бы писать программы, если бы не заказчики'\n",
    "short_phrase = '640Кб должно хватить для любых задач. Билл Гейтс (по легенде)'"
   ]
  },
  {
   "cell_type": "code",
   "execution_count": 4,
   "metadata": {},
   "outputs": [
    {
     "name": "stdout",
     "output_type": "stream",
     "text": [
      "True\n"
     ]
    }
   ],
   "source": [
    "if len(long_phrase) > len(short_phrase):\n",
    "    print(True)\n",
    "else:\n",
    "    print(False)"
   ]
  },
  {
   "cell_type": "markdown",
   "metadata": {},
   "source": [
    "**Задание 2**. Дано значение объема файла в байтах (*в мегабайте 2^20 байт*). Напишите перевод этого значения в мегабайты в формате: \"*Объем файла равен 213.68Mb*\"."
   ]
  },
  {
   "cell_type": "code",
   "execution_count": 16,
   "metadata": {},
   "outputs": [
    {
     "name": "stdout",
     "output_type": "stream",
     "text": [
      "Введите объем файла в байтах: 1048576\n",
      "Объем файла равен 1.00\n"
     ]
    }
   ],
   "source": [
    "byte = int(input('Введите объем файла в байтах: '))\n",
    "print('Объем файла равен %.2f'%(byte/2**20))"
   ]
  },
  {
   "cell_type": "markdown",
   "metadata": {},
   "source": [
    "**Задание 3**. Разработать приложение для определения знака зодиака по дате рождения. Пример:\n",
    "\n",
    "Введите месяц: март\n",
    "\n",
    "Введите число: 6\n",
    "\n",
    "Вывод:\n",
    "Рыбы"
   ]
  },
  {
   "cell_type": "code",
   "execution_count": 18,
   "metadata": {},
   "outputs": [
    {
     "name": "stdout",
     "output_type": "stream",
     "text": [
      "Type month: march\n",
      "Type day number: 6\n",
      "Result:  Pisces\n"
     ]
    }
   ],
   "source": [
    "month = input('Type month: ')\n",
    "day = int(input('Type day number: '))\n",
    "sign = 'Incorrect input'\n",
    "\n",
    "if   month == 'march'     and day >= 21 or month == 'april'     and day <= 20:\n",
    "    sign = 'Aries'\n",
    "elif month == 'april'     and day >= 21 or month == 'may'       and day <= 20:\n",
    "    sign = 'Taurus'\n",
    "elif month =='may'        and day >= 21 or month == 'june'      and day <= 21:\n",
    "    sign = 'Gemini'\n",
    "elif month =='june'       and day >= 22 or month == 'july'      and day <= 22:\n",
    "    sign = 'Cancer'\n",
    "elif month == 'july'      and day >= 23 or month == 'august'    and day <= 22:\n",
    "    sign = 'Leo'\n",
    "elif month == 'august'    and day >= 23 or month == 'september' and day <= 21:\n",
    "    sign = 'Virgo'\n",
    "elif month == 'september' and day >= 22 or month == 'october'   and day <= 22:\n",
    "    sign = 'Libra'\n",
    "elif month == 'october'   and day >= 23 or month == 'november'  and day <= 21:\n",
    "    sign = 'Scorpio'\n",
    "elif month == 'november'  and day >= 22 or month == 'december'  and day <= 21:\n",
    "    sign = 'Saggiatrius'\n",
    "elif month == 'december'  and day >= 22 or month == 'january'   and day <= 20:\n",
    "    sign = 'Capricorn'\n",
    "elif month == 'january'   and day >= 21 or month == 'february'  and day <= 19:\n",
    "    sign = 'Aquaris'\n",
    "elif month == 'february'  and day >= 20 or month == 'march'     and day <= 20:\n",
    "    sign = 'Pisces'\n",
    "print('Result: ', sign)"
   ]
  },
  {
   "cell_type": "markdown",
   "metadata": {},
   "source": [
    "**Задание 4**. Нужно разработать приложение для финансового планирования.\n",
    "Приложение учитывает сколько уходит на ипотеку, \"на жизнь\" и сколько нужно отложить на пенсию.\n",
    "Пользователь вводит:\n",
    "- заработанную плату в месяц.\n",
    "- сколько процентов от ЗП уходит на ипотеку.\n",
    "- сколько процентов от ЗП уходит \"на жизнь\".\n",
    "- сколько раз приходит премия в год.\n",
    "\n",
    "Остальная часть заработанной платы откладывается на пенсию.\n",
    "\n",
    "Также пользователю приходит премия в размере зарплаты, от которой половина уходит на отпуск, а вторая половина откладывается.\n",
    "\n",
    "Программа должна учитывать сколько премий было в год.\n",
    "\n",
    "Нужно вывести сколько денег тратит пользователь на ипотеку и сколько он накопит за год.\n",
    "\n",
    "Пример:\n",
    "\n",
    "Введите заработанную плату в месяц: 100000\n",
    "\n",
    "Введите сколько процентов уходит на ипотеку: 30\n",
    "\n",
    "Введите сколько процентов уходит на жизнь: 50\n",
    "\n",
    "Введите количество премий за год: 2\n",
    "\n",
    "Вывод:\n",
    "На ипотеку было потрачено: 360000 рублей\n",
    "Было накоплено: 340000 рублей"
   ]
  },
  {
   "cell_type": "code",
   "execution_count": 23,
   "metadata": {},
   "outputs": [
    {
     "name": "stdout",
     "output_type": "stream",
     "text": [
      "Заработная плата в месяц: 100_000\n",
      "Сколько процентов от ЗП уходит на ипотеку: 30\n",
      "Сколько процентов от ЗП уходит \"на жизнь\": 50\n",
      "Склоко раз приходит премия за год: 2\n",
      "На ипотеку было потрачено  360000.0  рублей. Было накоплено:  340000.0  рублей.\n"
     ]
    }
   ],
   "source": [
    "monthly_wage = float(input('Заработная плата в месяц: '))\n",
    "mortgage_percent = float(input('Сколько процентов от ЗП уходит на ипотеку: '))\n",
    "life_percent = float(input('Сколько процентов от ЗП уходит \"на жизнь\": '))\n",
    "extra_pais = int(input('Склоко раз приходит премия за год: '))\n",
    "\n",
    "yearly_total = (12 + extra_pais)*monthly_wage\n",
    "\n",
    "holiday_cost = extra_pais * monthly_wage * 0.5\n",
    "morgage_cost = 12 * monthly_wage * mortgage_percent/100\n",
    "life_cost = 12 * monthly_wage * life_percent/100\n",
    "safe = yearly_total - life_cost - holiday_cost - morgage_cost\n",
    "\n",
    "print('На ипотеку было потрачено ', morgage_cost, ' рублей. Было накоплено: ', safe, ' рублей.')"
   ]
  }
 ],
 "metadata": {
  "kernelspec": {
   "display_name": "Python 3",
   "language": "python",
   "name": "python3"
  },
  "language_info": {
   "codemirror_mode": {
    "name": "ipython",
    "version": 3
   },
   "file_extension": ".py",
   "mimetype": "text/x-python",
   "name": "python",
   "nbconvert_exporter": "python",
   "pygments_lexer": "ipython3",
   "version": "3.8.3"
  }
 },
 "nbformat": 4,
 "nbformat_minor": 2
}
