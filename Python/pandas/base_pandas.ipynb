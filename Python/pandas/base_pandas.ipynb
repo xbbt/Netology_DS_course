{
 "cells": [
  {
   "cell_type": "markdown",
   "metadata": {},
   "source": [
    "### Задание 1\n",
    "Скачайте с сайта https://grouplens.org/datasets/movielens/ датасет любого размера.\n",
    "    Определите какому фильму было выставлено больше всего оценок 5.0."
   ]
  },
  {
   "cell_type": "code",
   "execution_count": 1,
   "metadata": {},
   "outputs": [],
   "source": [
    "#  MovieLens 25M Dataset \n",
    "# https://grouplens.org/datasets/movielens/25m/\n",
    "import pandas as pd\n",
    "df = pd.read_csv('ml-25m/ratings.csv')"
   ]
  },
  {
   "cell_type": "code",
   "execution_count": 2,
   "metadata": {},
   "outputs": [
    {
     "data": {
      "text/html": [
       "<div>\n",
       "<style scoped>\n",
       "    .dataframe tbody tr th:only-of-type {\n",
       "        vertical-align: middle;\n",
       "    }\n",
       "\n",
       "    .dataframe tbody tr th {\n",
       "        vertical-align: top;\n",
       "    }\n",
       "\n",
       "    .dataframe thead th {\n",
       "        text-align: right;\n",
       "    }\n",
       "</style>\n",
       "<table border=\"1\" class=\"dataframe\">\n",
       "  <thead>\n",
       "    <tr style=\"text-align: right;\">\n",
       "      <th></th>\n",
       "      <th>userId</th>\n",
       "      <th>movieId</th>\n",
       "      <th>rating</th>\n",
       "      <th>timestamp</th>\n",
       "    </tr>\n",
       "  </thead>\n",
       "  <tbody>\n",
       "    <tr>\n",
       "      <th>0</th>\n",
       "      <td>1</td>\n",
       "      <td>296</td>\n",
       "      <td>5.0</td>\n",
       "      <td>1147880044</td>\n",
       "    </tr>\n",
       "    <tr>\n",
       "      <th>1</th>\n",
       "      <td>1</td>\n",
       "      <td>306</td>\n",
       "      <td>3.5</td>\n",
       "      <td>1147868817</td>\n",
       "    </tr>\n",
       "    <tr>\n",
       "      <th>2</th>\n",
       "      <td>1</td>\n",
       "      <td>307</td>\n",
       "      <td>5.0</td>\n",
       "      <td>1147868828</td>\n",
       "    </tr>\n",
       "    <tr>\n",
       "      <th>3</th>\n",
       "      <td>1</td>\n",
       "      <td>665</td>\n",
       "      <td>5.0</td>\n",
       "      <td>1147878820</td>\n",
       "    </tr>\n",
       "    <tr>\n",
       "      <th>4</th>\n",
       "      <td>1</td>\n",
       "      <td>899</td>\n",
       "      <td>3.5</td>\n",
       "      <td>1147868510</td>\n",
       "    </tr>\n",
       "  </tbody>\n",
       "</table>\n",
       "</div>"
      ],
      "text/plain": [
       "   userId  movieId  rating   timestamp\n",
       "0       1      296     5.0  1147880044\n",
       "1       1      306     3.5  1147868817\n",
       "2       1      307     5.0  1147868828\n",
       "3       1      665     5.0  1147878820\n",
       "4       1      899     3.5  1147868510"
      ]
     },
     "execution_count": 2,
     "metadata": {},
     "output_type": "execute_result"
    }
   ],
   "source": [
    "df.head()"
   ]
  },
  {
   "cell_type": "code",
   "execution_count": 3,
   "metadata": {},
   "outputs": [],
   "source": [
    "a = df.query('rating == 5').groupby('movieId').count().sort_values('rating', ascending=False)"
   ]
  },
  {
   "cell_type": "code",
   "execution_count": 4,
   "metadata": {},
   "outputs": [
    {
     "data": {
      "text/html": [
       "<div>\n",
       "<style scoped>\n",
       "    .dataframe tbody tr th:only-of-type {\n",
       "        vertical-align: middle;\n",
       "    }\n",
       "\n",
       "    .dataframe tbody tr th {\n",
       "        vertical-align: top;\n",
       "    }\n",
       "\n",
       "    .dataframe thead th {\n",
       "        text-align: right;\n",
       "    }\n",
       "</style>\n",
       "<table border=\"1\" class=\"dataframe\">\n",
       "  <thead>\n",
       "    <tr style=\"text-align: right;\">\n",
       "      <th></th>\n",
       "      <th>movieId</th>\n",
       "      <th>title</th>\n",
       "      <th>genres</th>\n",
       "    </tr>\n",
       "  </thead>\n",
       "  <tbody>\n",
       "    <tr>\n",
       "      <th>314</th>\n",
       "      <td>318</td>\n",
       "      <td>Shawshank Redemption, The (1994)</td>\n",
       "      <td>Crime|Drama</td>\n",
       "    </tr>\n",
       "  </tbody>\n",
       "</table>\n",
       "</div>"
      ],
      "text/plain": [
       "     movieId                             title       genres\n",
       "314      318  Shawshank Redemption, The (1994)  Crime|Drama"
      ]
     },
     "execution_count": 4,
     "metadata": {},
     "output_type": "execute_result"
    }
   ],
   "source": [
    "df_movies = pd.read_csv('ml-25m/movies.csv')\n",
    "df_movies[df_movies['movieId'] ==a.index[0]]"
   ]
  },
  {
   "cell_type": "markdown",
   "metadata": {},
   "source": [
    "### Задание 2\n",
    "По данным файла power.csv посчитайте суммарное потребление стран Прибалтики (Латвия, Литва и Эстония) категорий 4, 12 и 21 за период с 2005 по 2010 года. Не учитывайте в расчетах отрицательные значения quantity."
   ]
  },
  {
   "cell_type": "code",
   "execution_count": 5,
   "metadata": {},
   "outputs": [
    {
     "data": {
      "text/plain": [
       "240580.0"
      ]
     },
     "execution_count": 5,
     "metadata": {},
     "output_type": "execute_result"
    }
   ],
   "source": [
    "df_power = pd.read_csv('power.csv')\n",
    "baltic_state = (df_power['country'] == 'Latvia') | (df_power['country']=='Lithuania') |  (df_power['country']=='Estonia')\n",
    "our_categories = (df_power['category'] == 4) | (df_power['category'] == 12) | (df_power['category'] == 21)\n",
    "our_period = (2005 <= df_power['year']) & (df_power['year'] <= 2010)\n",
    "df_power[baltic_state & our_categories & our_period & (df_power['quantity'] > 0)]['quantity'].sum()"
   ]
  },
  {
   "cell_type": "markdown",
   "metadata": {},
   "source": [
    "### Задание 3\n",
    "Выберите страницу любого сайта с табличными данными. Импортируйте таблицы в pandas dataframe.\n",
    "Примеры страниц (необязательно брать именно эти):\n",
    "https://fortrader.org/quotes\n",
    "https://www.finanz.ru/valyuty/v-realnom-vremeni"
   ]
  },
  {
   "cell_type": "code",
   "execution_count": 20,
   "metadata": {},
   "outputs": [],
   "source": [
    "df_web = pd.read_html('https://fortrader.org/quotes')"
   ]
  },
  {
   "cell_type": "code",
   "execution_count": 19,
   "metadata": {},
   "outputs": [
    {
     "data": {
      "text/html": [
       "<div>\n",
       "<style scoped>\n",
       "    .dataframe tbody tr th:only-of-type {\n",
       "        vertical-align: middle;\n",
       "    }\n",
       "\n",
       "    .dataframe tbody tr th {\n",
       "        vertical-align: top;\n",
       "    }\n",
       "\n",
       "    .dataframe thead th {\n",
       "        text-align: right;\n",
       "    }\n",
       "</style>\n",
       "<table border=\"1\" class=\"dataframe\">\n",
       "  <thead>\n",
       "    <tr style=\"text-align: right;\">\n",
       "      <th></th>\n",
       "      <th>Название</th>\n",
       "      <th>Цена</th>\n",
       "      <th>Изменение</th>\n",
       "      <th>Изменение(%)</th>\n",
       "      <th>Обновлено</th>\n",
       "    </tr>\n",
       "  </thead>\n",
       "  <tbody>\n",
       "    <tr>\n",
       "      <th>0</th>\n",
       "      <td>EURRUB Курс евро к рублю сегодня</td>\n",
       "      <td>86.6493</td>\n",
       "      <td>-0.0653</td>\n",
       "      <td>-0.0753</td>\n",
       "      <td>NaN</td>\n",
       "    </tr>\n",
       "    <tr>\n",
       "      <th>1</th>\n",
       "      <td>USDRUB Курс рубля к доллару</td>\n",
       "      <td>73.1254</td>\n",
       "      <td>-0.2368</td>\n",
       "      <td>-0.3228</td>\n",
       "      <td>NaN</td>\n",
       "    </tr>\n",
       "  </tbody>\n",
       "</table>\n",
       "</div>"
      ],
      "text/plain": [
       "                           Название     Цена  Изменение  Изменение(%)  \\\n",
       "0  EURRUB Курс евро к рублю сегодня  86.6493    -0.0653       -0.0753   \n",
       "1       USDRUB Курс рубля к доллару  73.1254    -0.2368       -0.3228   \n",
       "\n",
       "   Обновлено  \n",
       "0        NaN  \n",
       "1        NaN  "
      ]
     },
     "execution_count": 19,
     "metadata": {},
     "output_type": "execute_result"
    }
   ],
   "source": [
    "df_web[0]"
   ]
  },
  {
   "cell_type": "code",
   "execution_count": 12,
   "metadata": {},
   "outputs": [
    {
     "name": "stdout",
     "output_type": "stream",
     "text": [
      "                           Название     Цена  Изменение  Изменение(%)  \\\n",
      "0  EURRUB Курс евро к рублю сегодня  86.6493    -0.0653       -0.0753   \n",
      "1       USDRUB Курс рубля к доллару  73.1254    -0.2368       -0.3228   \n",
      "\n",
      "   Обновлено  \n",
      "0        NaN  \n",
      "1        NaN  \n",
      "                           Название      Цена   Изменение Изменение(%)  \\\n",
      "0  Нефть (BRENT) Курс нефти сегодня    45.510       +1.15        +2.59   \n",
      "1   Нефть (WTI) Цены на нефть (WTI)    42.790       +1.24        +2.98   \n",
      "2          Сахар котировки на сахар    12.630  нет данных   нет данных   \n",
      "3                   Газ Цена на газ     2.241      +0.062       +2.845   \n",
      "4                             CACAO  2449.000       0.000        0.000   \n",
      "\n",
      "   Обновлено  \n",
      "0        NaN  \n",
      "1        NaN  \n",
      "2        NaN  \n",
      "3        NaN  \n",
      "4        NaN  \n",
      "                      Название       Цена  Изменение  Изменение(%)  Обновлено\n",
      "0      Серебро Цена на серебро    26.7930     0.5580        2.1270        NaN\n",
      "1    Палладий Цена на Палладий  2198.6500    17.8500        0.8200        NaN\n",
      "2  Золото Цена золота на бирже  2055.8000     7.2000        0.4000        NaN\n",
      "3      Платина Цены на платину   975.6000    18.1000        1.9000        NaN\n",
      "4      Медь Цена меди на бирже     2.4575    -0.4475      -15.4045        NaN\n",
      "                   Название       Цена  Изменение  Изменение(%)  Обновлено\n",
      "0             ВТБ Акции ВТБ     0.0388  -0.001585     -3.924725        NaN\n",
      "1    Газпром Акции газпрома   187.2400   3.930000      2.140000        NaN\n",
      "2       Лукойл Акции Лукойл  5095.5000  57.000000      1.100000        NaN\n",
      "3   Роснефть Акции Роснефти   360.6500   0.850000      0.240000        NaN\n",
      "4  Сбербанк Акции Сбербанка   226.1700  -0.990000     -0.440000        NaN\n",
      "                           Название    Цена  Изменение  Изменение(%)  \\\n",
      "0               IBM Corp. IBM Corp.  125.59      -0.25         -0.20   \n",
      "1         Microsoft Microsoft Corp.  214.03       0.74          0.35   \n",
      "2                 APPLE Акции APPLE  438.69       0.03          0.01   \n",
      "3               Toyota Акции Тойоты  122.86      -0.05         -0.04   \n",
      "4  Volkswagen Курс акций Volkswagen  135.56       1.90          1.42   \n",
      "\n",
      "   Обновлено  \n",
      "0        NaN  \n",
      "1        NaN  \n",
      "2        NaN  \n",
      "3        NaN  \n",
      "4        NaN  \n",
      "                                  Название      Цена     Изменение  \\\n",
      "0                                  S&P 500    3317.0        +18.00   \n",
      "1  Фьючерс РТС Курс фьючерса на индекс РТС  118130.0      +116 870   \n",
      "2                      Индекс Dow 30 (DJI)   26896.0           +68   \n",
      "3                     РТС Курс индекса РТС  128220.0  +2 030.00000   \n",
      "4                                    DAX30   12702.3        +120.1   \n",
      "\n",
      "  Изменение(%)  Обновлено  \n",
      "0        +0.55        NaN  \n",
      "1       +9 274        NaN  \n",
      "2           +0        NaN  \n",
      "3     +1.60869        NaN  \n",
      "4         +1.0        NaN  \n",
      "                                           Название     Цена  Изменение  \\\n",
      "0                        EURUSD Курс евро к доллару  1.18502    0.00368   \n",
      "1        AUDCAD Australian Dollar / Canadian Dollar  0.95605    0.00188   \n",
      "2  AUDUSD Курс австралийского доллара к доллару сша  0.72113    0.00354   \n",
      "3                       GBPUSD Курс фунта к доллару  1.31217    0.00375   \n",
      "4                         EURCHF Euro / Swiss Franc  1.07755   -0.00052   \n",
      "\n",
      "   Изменение(%)  Обновлено  \n",
      "0       0.31151        NaN  \n",
      "1       0.19703        NaN  \n",
      "2       0.49332        NaN  \n",
      "3       0.28661        NaN  \n",
      "4      -0.04823        NaN  \n",
      "                                            Название         Цена  Изменение  \\\n",
      "0                              Bitcoin Курс биткоина  11388.50000  199.70000   \n",
      "1         Litecoin Курс лайткоин к доллару (LTC/USD)     58.87200    1.30200   \n",
      "2  BitcoinCash Курс Биткоин кеш к доллару США (BC...    291.24000    3.19000   \n",
      "3                                          Dash Dash     88.24400    1.48200   \n",
      "4                                      Ripple Ripple      0.30191    0.00067   \n",
      "\n",
      "   Изменение(%)  Обновлено  \n",
      "0       1.78500        NaN  \n",
      "1       2.26200        NaN  \n",
      "2       1.10700        NaN  \n",
      "3       1.70800        NaN  \n",
      "4       0.22241        NaN  \n"
     ]
    }
   ],
   "source": [
    "for table in df_web:\n",
    "    print(table.head())"
   ]
  }
 ],
 "metadata": {
  "kernelspec": {
   "display_name": "Python 3",
   "language": "python",
   "name": "python3"
  },
  "language_info": {
   "codemirror_mode": {
    "name": "ipython",
    "version": 3
   },
   "file_extension": ".py",
   "mimetype": "text/x-python",
   "name": "python",
   "nbconvert_exporter": "python",
   "pygments_lexer": "ipython3",
   "version": "3.8.3"
  }
 },
 "nbformat": 4,
 "nbformat_minor": 4
}
