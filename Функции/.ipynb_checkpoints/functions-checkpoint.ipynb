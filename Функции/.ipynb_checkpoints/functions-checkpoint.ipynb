{
 "cells": [
  {
   "cell_type": "markdown",
   "metadata": {},
   "source": [
    "Вы работаете секретарем и вам постоянно приходят различные документы. Вы должны быть очень внимательны, чтобы не потерять ни один документ. Каталог документов хранится в следующем виде:"
   ]
  },
  {
   "cell_type": "code",
   "execution_count": 1,
   "metadata": {},
   "outputs": [],
   "source": [
    "documents = [\n",
    "    {'type': 'passport', 'number': '2207 876234', 'name': 'Василий Гупкин'},\n",
    "    {'type': 'invoice', 'number': '11-2', 'name': 'Геннадий Покемонов'},\n",
    "    {'type': 'insurance', 'number': '10006', 'name': 'Аристарх Павлов'}\n",
    "]"
   ]
  },
  {
   "cell_type": "markdown",
   "metadata": {},
   "source": [
    "Перечень полок, на которых находятся документы хранится в следующем виде:"
   ]
  },
  {
   "cell_type": "code",
   "execution_count": 2,
   "metadata": {},
   "outputs": [],
   "source": [
    "directories = {\n",
    "    '1': ['2207 876234', '11-2'],\n",
    "    '2': ['10006'],\n",
    "    '3': []\n",
    "}"
   ]
  },
  {
   "cell_type": "markdown",
   "metadata": {},
   "source": [
    "Необходимо реализовать пользовательские команды (внимание! это не название функций, которые должны быть выразительными, а команды, которые вводит пользователь, чтобы получить необходимый результат):\n",
    "  \n",
    "- p – people – команда, которая спросит номер документа и выведет имя человека, которому он принадлежит;  \n",
    "- s – shelf – команда, которая спросит номер документа и выведет номер полки, на которой он находится  \n",
    "*Правильно обработайте ситуации, когда пользователь будет вводить несуществующий документ*.\n",
    "- l – list – команда, которая выведет список всех документов в формате   \n",
    "**passport \"2207 876234\" \"Василий Гупкин\"**  \n",
    "- as – add shelf – команда, которая спросит номер новой полки и добавит ее в перечень. *Предусмотрите случай, когда пользователь добавляет полку, которая уже существует*.\n",
    "- d – delete – команда, которая спросит номер документа и удалит его из каталога и из перечня полок. *Предусмотрите сценарий, когда пользователь вводит несуществующий документ*;  \n",
    "- m – move – команда, которая спросит номер документа и целевую полку и переместит его с текущей полки на целевую. *Корректно обработайте кейсы, когда пользователь пытается переместить несуществующий документ или переместить документ на несуществующую полку*;  \n",
    "- a – add – команда, которая добавит новый документ в каталог и в перечень полок, спросив его номер, тип, имя владельца и номер полки, на котором он будет храниться. *Корректно обработайте ситуацию, когда пользователь будет пытаться добавить документ на несуществующую полку*."
   ]
  },
  {
   "cell_type": "code",
   "execution_count": 3,
   "metadata": {},
   "outputs": [],
   "source": [
    "# 1. people\n",
    "def people_by_number(docs, number=None):\n",
    "    \"\"\"Ask the number of document and return the owner's name.\"\"\"\n",
    "    number = number or input('Type the number of document: ')\n",
    "    for doc in docs:\n",
    "        if doc['number'] == number:\n",
    "            return doc['name'], number\n",
    "    else:\n",
    "        # 'There is not a document with this name. You can add it with add_new_document().'\n",
    "        return None, number"
   ]
  },
  {
   "cell_type": "code",
   "execution_count": 4,
   "metadata": {},
   "outputs": [
    {
     "name": "stdout",
     "output_type": "stream",
     "text": [
      "('Аристарх Павлов', '10006')\n",
      "\n",
      "(None, '3')\n"
     ]
    }
   ],
   "source": [
    "print(people_by_number(documents, number='10006'))\n",
    "print()\n",
    "print(people_by_number(documents, number='3'))"
   ]
  },
  {
   "cell_type": "code",
   "execution_count": 5,
   "metadata": {},
   "outputs": [],
   "source": [
    "# 2. shelf\n",
    "def shelf_by_number(dirs, num=None):\n",
    "    \"\"\"Ask the number of document and return the number of shelf.\"\"\"\n",
    "    num = num or input('Type the number of document: ')\n",
    "    for shelf in dirs.keys():\n",
    "        if num in dirs[shelf]:\n",
    "            return shelf, num\n",
    "    else:\n",
    "        # 'There is not a document with this name.\\nYou can add it with add_new_document().'\n",
    "        return None, num"
   ]
  },
  {
   "cell_type": "code",
   "execution_count": 6,
   "metadata": {},
   "outputs": [
    {
     "name": "stdout",
     "output_type": "stream",
     "text": [
      "('2', '10006')\n",
      "\n",
      "(None, '7')\n"
     ]
    }
   ],
   "source": [
    "print(shelf_by_number(directories, num='10006'))\n",
    "print()\n",
    "print(shelf_by_number(directories, num='7'))"
   ]
  },
  {
   "cell_type": "code",
   "execution_count": 7,
   "metadata": {},
   "outputs": [],
   "source": [
    "# 3. list\n",
    "def show_all_documents(docs):\n",
    "    \"\"\"Print all documents.\"\"\"\n",
    "    if docs:\n",
    "        for doc in docs:\n",
    "            print(doc['type'], '\"'+doc['number']+'\"\"', '\"'+repr(doc['name'])+'\"')\n",
    "    else:\n",
    "        return ''\n",
    "        # print('There are no documents.\\nYou can add them with add_new_document().')"
   ]
  },
  {
   "cell_type": "code",
   "execution_count": 8,
   "metadata": {},
   "outputs": [
    {
     "name": "stdout",
     "output_type": "stream",
     "text": [
      "passport \"2207 876234\"\" \"'Василий Гупкин'\"\n",
      "invoice \"11-2\"\" \"'Геннадий Покемонов'\"\n",
      "insurance \"10006\"\" \"'Аристарх Павлов'\"\n",
      "\n"
     ]
    },
    {
     "data": {
      "text/plain": [
       "''"
      ]
     },
     "execution_count": 8,
     "metadata": {},
     "output_type": "execute_result"
    }
   ],
   "source": [
    "show_all_documents(documents)\n",
    "print()\n",
    "show_all_documents([])"
   ]
  },
  {
   "cell_type": "code",
   "execution_count": 9,
   "metadata": {},
   "outputs": [],
   "source": [
    "# 4. add\n",
    "def add_new_shelf(dirs, new_shelf_num=None):\n",
    "    \"\"\"\n",
    "        Ask the number of new shelf and add it\n",
    "        to the directories if it is really new.\n",
    "    \"\"\"\n",
    "    new_shelf_num = new_shelf_num or input('Type the number of shelf to add: ')\n",
    "    if new_shelf_num in dirs.keys():\n",
    "        print('This shelf is in directories.')\n",
    "    else:\n",
    "        dirs[new_shelf_num] = []\n",
    "        print('Shelf', new_shelf_num, 'was added to directories.')"
   ]
  },
  {
   "cell_type": "code",
   "execution_count": 10,
   "metadata": {},
   "outputs": [
    {
     "name": "stdout",
     "output_type": "stream",
     "text": [
      "This shelf is in directories.\n",
      "\n",
      "Shelf 59 was added to directories.\n",
      "{'1': ['2207 876234', '11-2'], '2': ['10006'], '3': [], '59': []}\n"
     ]
    }
   ],
   "source": [
    "add_new_shelf(directories, new_shelf_num='1')\n",
    "print()\n",
    "add_new_shelf(directories, new_shelf_num='59')\n",
    "print(directories)"
   ]
  },
  {
   "cell_type": "code",
   "execution_count": 11,
   "metadata": {},
   "outputs": [],
   "source": [
    "# 5. delete\n",
    "def delete_document_by_number(docs, dirs, num=None):\n",
    "    \"\"\"\n",
    "        If the number of document exists\n",
    "        in scrolls delete the document from\n",
    "        document list and directories.\n",
    "    \"\"\"\n",
    "    num = num or input('Type the number of document to delete: ')\n",
    "    for i, j in enumerate(docs):\n",
    "        if j['number'] == num:\n",
    "            del docs[i]\n",
    "            print(repr(num), 'document has been deleted.')\n",
    "            break\n",
    "    else:\n",
    "        print('There is no a document ', repr(num),'.', sep='')\n",
    "    for d in dirs.keys():\n",
    "        if num in dirs[d]:\n",
    "            dirs[d].remove(num)"
   ]
  },
  {
   "cell_type": "code",
   "execution_count": 12,
   "metadata": {},
   "outputs": [
    {
     "name": "stdout",
     "output_type": "stream",
     "text": [
      "passport \"2207 876234\"\" \"'Василий Гупкин'\"\n",
      "invoice \"11-2\"\" \"'Геннадий Покемонов'\"\n",
      "insurance \"10006\"\" \"'Аристарх Павлов'\"\n",
      "{'1': ['2207 876234', '11-2'], '2': ['10006'], '3': [], '59': []}\n",
      "\n",
      "'10006' document has been deleted.\n",
      "There is no a document '32'.\n",
      "\n",
      "passport \"2207 876234\"\" \"'Василий Гупкин'\"\n",
      "invoice \"11-2\"\" \"'Геннадий Покемонов'\"\n",
      "{'1': ['2207 876234', '11-2'], '2': [], '3': [], '59': []}\n"
     ]
    }
   ],
   "source": [
    "show_all_documents(documents)\n",
    "print(directories)\n",
    "print()\n",
    "delete_document_by_number(documents, directories, num='10006')\n",
    "delete_document_by_number(documents, directories, num='32')\n",
    "print()\n",
    "show_all_documents(documents)\n",
    "print(directories)"
   ]
  },
  {
   "cell_type": "code",
   "execution_count": 13,
   "metadata": {},
   "outputs": [],
   "source": [
    "# 6. move\n",
    "def replace_document(dirs, num=None, new_shelf=None):\n",
    "    \"\"\"Ask the targe shelf id and the number of a document to replace.\"\"\"\n",
    "    num = num or input('Type the number of document to replace: ')\n",
    "    new_shelf = new_shelf or input('Type the number of destination shelf: ')\n",
    "    \n",
    "    if new_shelf not in dirs.keys():\n",
    "        print('There are no a shelf with this number.\\nYou can add it with add_new_shelf()')\n",
    "        return None\n",
    "    for shelf in dirs.keys():\n",
    "        if num in dirs[shelf]:\n",
    "            dirs[shelf].remove(num)\n",
    "            dirs[new_shelf].append(num)\n",
    "            print('The document', num, 'has been replaced to the shelf', new_shelf)\n",
    "            break    \n",
    "    else:\n",
    "        print('There are no a document with this number.\\nYou can add it with add_new_document().')"
   ]
  },
  {
   "cell_type": "code",
   "execution_count": 14,
   "metadata": {},
   "outputs": [
    {
     "name": "stdout",
     "output_type": "stream",
     "text": [
      "{'1': ['2207 876234', '11-2'], '2': [], '3': [], '59': []} \n",
      "\n",
      "The document 11-2 has been replaced to the shelf 3\n",
      "\n",
      "There are no a shelf with this number.\n",
      "You can add it with add_new_shelf()\n",
      "\n",
      "There are no a document with this number.\n",
      "You can add it with add_new_document().\n",
      "\n",
      "There are no a document with this number.\n",
      "You can add it with add_new_document().\n",
      "\n",
      "\n",
      " {'1': ['2207 876234'], '2': [], '3': ['11-2'], '59': []}\n"
     ]
    }
   ],
   "source": [
    "print(directories, '\\n')\n",
    "replace_document(directories, num='11-2', new_shelf='3')\n",
    "print()\n",
    "replace_document(directories, num='11-2', new_shelf='58')\n",
    "print()\n",
    "replace_document(directories, num='1', new_shelf='3')\n",
    "print()\n",
    "replace_document(directories, num='1', new_shelf='3')\n",
    "print()\n",
    "# replace_document(directories)\n",
    "\n",
    "print('\\n',directories)"
   ]
  },
  {
   "cell_type": "code",
   "execution_count": 15,
   "metadata": {},
   "outputs": [],
   "source": [
    "# 7. add\n",
    "def add_new_document(\n",
    "    docs, dirs,\n",
    "    doc_type=None, number=None, name=None,\n",
    "    shelf=None\n",
    "    ):\n",
    "    \"\"\"\n",
    "        Ask the type, the number, and the owenr's name of a new document,\n",
    "        ask the shelf to place. Add the document to collection.\n",
    "    \"\"\"\n",
    "    doc_type = doc_type or input('Tye the type of the document to add: ')\n",
    "    number = number or input('Type the number of the document to add: ')\n",
    "    name = name or input('Type the name of the document to add: ')\n",
    "\n",
    "    shelf = shelf or input('Type the number of a destination shelf: ')    \n",
    "    \n",
    "    for doc in docs:\n",
    "        if (doc['type'] == doc_type\n",
    "            and doc['number'] == number\n",
    "            and doc['name'] == name):\n",
    "            print('This document is already in collection.\\nYou can see it with show_all_documents().')\n",
    "            return None\n",
    "    if shelf not in dirs.keys():\n",
    "        add_shelf = input('There is no a shelf with this number.\\nDo you want to add it?\\n[y/n]:') in ['y', 'Y']\n",
    "        if add_shelf:\n",
    "            add_new_shelf(dirs, shelf)\n",
    "        else:\n",
    "            return None\n",
    "    docs.append(dict({'type':doc_type, 'number':number, 'name': name}))\n",
    "    dirs[shelf].append(number)"
   ]
  },
  {
   "cell_type": "code",
   "execution_count": 16,
   "metadata": {},
   "outputs": [
    {
     "name": "stdout",
     "output_type": "stream",
     "text": [
      "passport \"2207 876234\"\" \"'Василий Гупкин'\"\n",
      "invoice \"11-2\"\" \"'Геннадий Покемонов'\"\n",
      "{'1': ['2207 876234'], '2': [], '3': ['11-2'], '59': []} \n",
      "\n",
      "\n",
      "passport \"2207 876234\"\" \"'Василий Гупкин'\"\n",
      "invoice \"11-2\"\" \"'Геннадий Покемонов'\"\n",
      "bill \"44B3\"\" \"'John Doe'\"\n",
      "{'1': ['2207 876234'], '2': [], '3': ['11-2', '44B3'], '59': []}\n"
     ]
    }
   ],
   "source": [
    "show_all_documents(documents)\n",
    "print(directories, '\\n')\n",
    "\n",
    "new_doc = dict({'doc_type': 'bill', 'number': '44B3', 'name': 'John Doe', 'shelf': '3'})\n",
    "add_new_document(documents, directories, **new_doc)\n",
    "print()\n",
    "show_all_documents(documents)\n",
    "print(directories)"
   ]
  }
 ],
 "metadata": {
  "kernelspec": {
   "display_name": "Python 3",
   "language": "python",
   "name": "python3"
  },
  "language_info": {
   "codemirror_mode": {
    "name": "ipython",
    "version": 3
   },
   "file_extension": ".py",
   "mimetype": "text/x-python",
   "name": "python",
   "nbconvert_exporter": "python",
   "pygments_lexer": "ipython3",
   "version": "3.8.3"
  }
 },
 "nbformat": 4,
 "nbformat_minor": 2
}
