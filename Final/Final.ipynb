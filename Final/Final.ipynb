{
 "cells": [
  {
   "cell_type": "code",
   "execution_count": 1,
   "metadata": {},
   "outputs": [],
   "source": [
    "import numpy as np\n",
    "import pandas as pd\n",
    "import matplotlib.pyplot as plt\n",
    "import scipy.stats as st\n",
    "\n",
    "parameters = {\n",
    "    'axes.labelsize':  14,\n",
    "    'figure.titlesize': 16,\n",
    "    'xtick.labelsize': 12,\n",
    "    'ytick.labelsize': 12,\n",
    "    'axes.titlesize': 16,\n",
    "    'legend.fontsize': 12,\n",
    "    'legend.title_fontsize': 14\n",
    "}\n",
    "plt.rcParams.update(parameters)"
   ]
  },
  {
   "cell_type": "code",
   "execution_count": 2,
   "metadata": {},
   "outputs": [],
   "source": [
    "def outlier_search(data):\n",
    "    q1 = data.quantile(0.25)\n",
    "    q3 = data.quantile(0.75)\n",
    "    iqr = q3 - q1\n",
    "    lower_outlier = q1 - iqr\n",
    "    higher_outlier = q3 + iqr\n",
    "\n",
    "    print(f\"Lower outlier margin: {lower_outlier:.1f}\")\n",
    "    print(\"lowest value in dataset:\", data.min())\n",
    "    print('Number of lower outliers: ', sum(data < lower_outlier), '\\n')\n",
    "\n",
    "    print(f\"Higher outlier margin: {higher_outlier:.1f}\")\n",
    "    print(\"highest value in dataset:\", data.max())\n",
    "    print('Number of higher outliers:', sum(data > higher_outlier))"
   ]
  },
  {
   "cell_type": "markdown",
   "metadata": {},
   "source": [
    "#### 1.\n",
    "Загрузите файл HR.csv в pandas dataframe"
   ]
  },
  {
   "cell_type": "code",
   "execution_count": 3,
   "metadata": {},
   "outputs": [
    {
     "data": {
      "text/html": [
       "<div>\n",
       "<style scoped>\n",
       "    .dataframe tbody tr th:only-of-type {\n",
       "        vertical-align: middle;\n",
       "    }\n",
       "\n",
       "    .dataframe tbody tr th {\n",
       "        vertical-align: top;\n",
       "    }\n",
       "\n",
       "    .dataframe thead th {\n",
       "        text-align: right;\n",
       "    }\n",
       "</style>\n",
       "<table border=\"1\" class=\"dataframe\">\n",
       "  <thead>\n",
       "    <tr style=\"text-align: right;\">\n",
       "      <th></th>\n",
       "      <th>satisfaction_level</th>\n",
       "      <th>last_evaluation</th>\n",
       "      <th>number_project</th>\n",
       "      <th>average_montly_hours</th>\n",
       "      <th>time_spend_company</th>\n",
       "      <th>Work_accident</th>\n",
       "      <th>left</th>\n",
       "      <th>promotion_last_5years</th>\n",
       "      <th>department</th>\n",
       "      <th>salary</th>\n",
       "    </tr>\n",
       "  </thead>\n",
       "  <tbody>\n",
       "    <tr>\n",
       "      <th>0</th>\n",
       "      <td>0.38</td>\n",
       "      <td>0.53</td>\n",
       "      <td>2</td>\n",
       "      <td>157</td>\n",
       "      <td>3</td>\n",
       "      <td>0</td>\n",
       "      <td>1</td>\n",
       "      <td>0</td>\n",
       "      <td>sales</td>\n",
       "      <td>low</td>\n",
       "    </tr>\n",
       "    <tr>\n",
       "      <th>1</th>\n",
       "      <td>0.80</td>\n",
       "      <td>0.86</td>\n",
       "      <td>5</td>\n",
       "      <td>262</td>\n",
       "      <td>6</td>\n",
       "      <td>0</td>\n",
       "      <td>1</td>\n",
       "      <td>0</td>\n",
       "      <td>sales</td>\n",
       "      <td>medium</td>\n",
       "    </tr>\n",
       "    <tr>\n",
       "      <th>2</th>\n",
       "      <td>0.11</td>\n",
       "      <td>0.88</td>\n",
       "      <td>7</td>\n",
       "      <td>272</td>\n",
       "      <td>4</td>\n",
       "      <td>0</td>\n",
       "      <td>1</td>\n",
       "      <td>0</td>\n",
       "      <td>sales</td>\n",
       "      <td>medium</td>\n",
       "    </tr>\n",
       "    <tr>\n",
       "      <th>3</th>\n",
       "      <td>0.72</td>\n",
       "      <td>0.87</td>\n",
       "      <td>5</td>\n",
       "      <td>223</td>\n",
       "      <td>5</td>\n",
       "      <td>0</td>\n",
       "      <td>1</td>\n",
       "      <td>0</td>\n",
       "      <td>sales</td>\n",
       "      <td>low</td>\n",
       "    </tr>\n",
       "    <tr>\n",
       "      <th>4</th>\n",
       "      <td>0.37</td>\n",
       "      <td>0.52</td>\n",
       "      <td>2</td>\n",
       "      <td>159</td>\n",
       "      <td>3</td>\n",
       "      <td>0</td>\n",
       "      <td>1</td>\n",
       "      <td>0</td>\n",
       "      <td>sales</td>\n",
       "      <td>low</td>\n",
       "    </tr>\n",
       "  </tbody>\n",
       "</table>\n",
       "</div>"
      ],
      "text/plain": [
       "   satisfaction_level  last_evaluation  number_project  average_montly_hours  \\\n",
       "0                0.38             0.53               2                   157   \n",
       "1                0.80             0.86               5                   262   \n",
       "2                0.11             0.88               7                   272   \n",
       "3                0.72             0.87               5                   223   \n",
       "4                0.37             0.52               2                   159   \n",
       "\n",
       "   time_spend_company  Work_accident  left  promotion_last_5years department  \\\n",
       "0                   3              0     1                      0      sales   \n",
       "1                   6              0     1                      0      sales   \n",
       "2                   4              0     1                      0      sales   \n",
       "3                   5              0     1                      0      sales   \n",
       "4                   3              0     1                      0      sales   \n",
       "\n",
       "   salary  \n",
       "0     low  \n",
       "1  medium  \n",
       "2  medium  \n",
       "3     low  \n",
       "4     low  "
      ]
     },
     "execution_count": 3,
     "metadata": {},
     "output_type": "execute_result"
    }
   ],
   "source": [
    "df = pd.read_csv('HR.csv')\n",
    "df.head()"
   ]
  },
  {
   "cell_type": "markdown",
   "metadata": {},
   "source": [
    "#### 2.\n",
    "Рассчитайте основные статистики для переменных(среднее,медиана,мода,мин/макс,сред.отклонение)"
   ]
  },
  {
   "cell_type": "code",
   "execution_count": 4,
   "metadata": {},
   "outputs": [],
   "source": [
    "numeric_columns = df.loc[:, df.dtypes != 'object'].columns\n",
    "object_columns = df.loc[:, df.dtypes == 'object'].columns"
   ]
  },
  {
   "cell_type": "code",
   "execution_count": 5,
   "metadata": {},
   "outputs": [
    {
     "name": "stdout",
     "output_type": "stream",
     "text": [
      "\n",
      "***  satisfaction_level *** :\n",
      "Lower outlier margin: 0.1\n",
      "lowest value in dataset: 0.09\n",
      "Number of lower outliers:  0 \n",
      "\n",
      "Higher outlier margin: 1.2\n",
      "highest value in dataset: 1.0\n",
      "Number of higher outliers: 0\n",
      "\n",
      "***  last_evaluation *** :\n",
      "Lower outlier margin: 0.1\n",
      "lowest value in dataset: 0.09\n",
      "Number of lower outliers:  0 \n",
      "\n",
      "Higher outlier margin: 1.2\n",
      "highest value in dataset: 1.0\n",
      "Number of higher outliers: 0\n",
      "\n",
      "***  number_project *** :\n",
      "Lower outlier margin: 0.1\n",
      "lowest value in dataset: 0.09\n",
      "Number of lower outliers:  0 \n",
      "\n",
      "Higher outlier margin: 1.2\n",
      "highest value in dataset: 1.0\n",
      "Number of higher outliers: 0\n",
      "\n",
      "***  average_montly_hours *** :\n",
      "Lower outlier margin: 0.1\n",
      "lowest value in dataset: 0.09\n",
      "Number of lower outliers:  0 \n",
      "\n",
      "Higher outlier margin: 1.2\n",
      "highest value in dataset: 1.0\n",
      "Number of higher outliers: 0\n",
      "\n",
      "***  time_spend_company *** :\n",
      "Lower outlier margin: 0.1\n",
      "lowest value in dataset: 0.09\n",
      "Number of lower outliers:  0 \n",
      "\n",
      "Higher outlier margin: 1.2\n",
      "highest value in dataset: 1.0\n",
      "Number of higher outliers: 0\n",
      "\n",
      "***  Work_accident *** :\n",
      "Lower outlier margin: 0.1\n",
      "lowest value in dataset: 0.09\n",
      "Number of lower outliers:  0 \n",
      "\n",
      "Higher outlier margin: 1.2\n",
      "highest value in dataset: 1.0\n",
      "Number of higher outliers: 0\n",
      "\n",
      "***  left *** :\n",
      "Lower outlier margin: 0.1\n",
      "lowest value in dataset: 0.09\n",
      "Number of lower outliers:  0 \n",
      "\n",
      "Higher outlier margin: 1.2\n",
      "highest value in dataset: 1.0\n",
      "Number of higher outliers: 0\n",
      "\n",
      "***  promotion_last_5years *** :\n",
      "Lower outlier margin: 0.1\n",
      "lowest value in dataset: 0.09\n",
      "Number of lower outliers:  0 \n",
      "\n",
      "Higher outlier margin: 1.2\n",
      "highest value in dataset: 1.0\n",
      "Number of higher outliers: 0\n"
     ]
    }
   ],
   "source": [
    "for col in numeric_columns:\n",
    "    print('\\n*** ', col, '*** :')\n",
    "    outlier_search(df['satisfaction_level'])"
   ]
  },
  {
   "cell_type": "markdown",
   "metadata": {},
   "source": [
    "Выбросов в численных столбцах не обнаружено"
   ]
  },
  {
   "cell_type": "code",
   "execution_count": 6,
   "metadata": {},
   "outputs": [
    {
     "data": {
      "text/html": [
       "<div>\n",
       "<style scoped>\n",
       "    .dataframe tbody tr th:only-of-type {\n",
       "        vertical-align: middle;\n",
       "    }\n",
       "\n",
       "    .dataframe tbody tr th {\n",
       "        vertical-align: top;\n",
       "    }\n",
       "\n",
       "    .dataframe thead th {\n",
       "        text-align: right;\n",
       "    }\n",
       "</style>\n",
       "<table border=\"1\" class=\"dataframe\">\n",
       "  <thead>\n",
       "    <tr style=\"text-align: right;\">\n",
       "      <th></th>\n",
       "      <th>satisfaction_level</th>\n",
       "      <th>last_evaluation</th>\n",
       "      <th>number_project</th>\n",
       "      <th>average_montly_hours</th>\n",
       "      <th>time_spend_company</th>\n",
       "      <th>Work_accident</th>\n",
       "      <th>left</th>\n",
       "      <th>promotion_last_5years</th>\n",
       "    </tr>\n",
       "  </thead>\n",
       "  <tbody>\n",
       "    <tr>\n",
       "      <th>count</th>\n",
       "      <td>14999.000000</td>\n",
       "      <td>14999.000000</td>\n",
       "      <td>14999.000000</td>\n",
       "      <td>14999.000000</td>\n",
       "      <td>14999.000000</td>\n",
       "      <td>14999.000000</td>\n",
       "      <td>14999.000000</td>\n",
       "      <td>14999.000000</td>\n",
       "    </tr>\n",
       "    <tr>\n",
       "      <th>mean</th>\n",
       "      <td>0.612834</td>\n",
       "      <td>0.716102</td>\n",
       "      <td>3.803054</td>\n",
       "      <td>201.050337</td>\n",
       "      <td>3.498233</td>\n",
       "      <td>0.144610</td>\n",
       "      <td>0.238083</td>\n",
       "      <td>0.021268</td>\n",
       "    </tr>\n",
       "    <tr>\n",
       "      <th>std</th>\n",
       "      <td>0.248631</td>\n",
       "      <td>0.171169</td>\n",
       "      <td>1.232592</td>\n",
       "      <td>49.943099</td>\n",
       "      <td>1.460136</td>\n",
       "      <td>0.351719</td>\n",
       "      <td>0.425924</td>\n",
       "      <td>0.144281</td>\n",
       "    </tr>\n",
       "    <tr>\n",
       "      <th>min</th>\n",
       "      <td>0.090000</td>\n",
       "      <td>0.360000</td>\n",
       "      <td>2.000000</td>\n",
       "      <td>96.000000</td>\n",
       "      <td>2.000000</td>\n",
       "      <td>0.000000</td>\n",
       "      <td>0.000000</td>\n",
       "      <td>0.000000</td>\n",
       "    </tr>\n",
       "    <tr>\n",
       "      <th>25%</th>\n",
       "      <td>0.440000</td>\n",
       "      <td>0.560000</td>\n",
       "      <td>3.000000</td>\n",
       "      <td>156.000000</td>\n",
       "      <td>3.000000</td>\n",
       "      <td>0.000000</td>\n",
       "      <td>0.000000</td>\n",
       "      <td>0.000000</td>\n",
       "    </tr>\n",
       "    <tr>\n",
       "      <th>50%</th>\n",
       "      <td>0.640000</td>\n",
       "      <td>0.720000</td>\n",
       "      <td>4.000000</td>\n",
       "      <td>200.000000</td>\n",
       "      <td>3.000000</td>\n",
       "      <td>0.000000</td>\n",
       "      <td>0.000000</td>\n",
       "      <td>0.000000</td>\n",
       "    </tr>\n",
       "    <tr>\n",
       "      <th>75%</th>\n",
       "      <td>0.820000</td>\n",
       "      <td>0.870000</td>\n",
       "      <td>5.000000</td>\n",
       "      <td>245.000000</td>\n",
       "      <td>4.000000</td>\n",
       "      <td>0.000000</td>\n",
       "      <td>0.000000</td>\n",
       "      <td>0.000000</td>\n",
       "    </tr>\n",
       "    <tr>\n",
       "      <th>max</th>\n",
       "      <td>1.000000</td>\n",
       "      <td>1.000000</td>\n",
       "      <td>7.000000</td>\n",
       "      <td>310.000000</td>\n",
       "      <td>10.000000</td>\n",
       "      <td>1.000000</td>\n",
       "      <td>1.000000</td>\n",
       "      <td>1.000000</td>\n",
       "    </tr>\n",
       "  </tbody>\n",
       "</table>\n",
       "</div>"
      ],
      "text/plain": [
       "       satisfaction_level  last_evaluation  number_project  \\\n",
       "count        14999.000000     14999.000000    14999.000000   \n",
       "mean             0.612834         0.716102        3.803054   \n",
       "std              0.248631         0.171169        1.232592   \n",
       "min              0.090000         0.360000        2.000000   \n",
       "25%              0.440000         0.560000        3.000000   \n",
       "50%              0.640000         0.720000        4.000000   \n",
       "75%              0.820000         0.870000        5.000000   \n",
       "max              1.000000         1.000000        7.000000   \n",
       "\n",
       "       average_montly_hours  time_spend_company  Work_accident          left  \\\n",
       "count          14999.000000        14999.000000   14999.000000  14999.000000   \n",
       "mean             201.050337            3.498233       0.144610      0.238083   \n",
       "std               49.943099            1.460136       0.351719      0.425924   \n",
       "min               96.000000            2.000000       0.000000      0.000000   \n",
       "25%              156.000000            3.000000       0.000000      0.000000   \n",
       "50%              200.000000            3.000000       0.000000      0.000000   \n",
       "75%              245.000000            4.000000       0.000000      0.000000   \n",
       "max              310.000000           10.000000       1.000000      1.000000   \n",
       "\n",
       "       promotion_last_5years  \n",
       "count           14999.000000  \n",
       "mean                0.021268  \n",
       "std                 0.144281  \n",
       "min                 0.000000  \n",
       "25%                 0.000000  \n",
       "50%                 0.000000  \n",
       "75%                 0.000000  \n",
       "max                 1.000000  "
      ]
     },
     "execution_count": 6,
     "metadata": {},
     "output_type": "execute_result"
    }
   ],
   "source": [
    "df.describe()"
   ]
  },
  {
   "cell_type": "code",
   "execution_count": 7,
   "metadata": {},
   "outputs": [
    {
     "name": "stdout",
     "output_type": "stream",
     "text": [
      "['sales' 'accounting' 'hr' 'technical' 'support' 'management' 'IT'\n",
      " 'product_mng' 'marketing' 'RandD']\n",
      "['low' 'medium' 'high']\n"
     ]
    }
   ],
   "source": [
    "for col in object_columns:\n",
    "    print(df[col].unique())"
   ]
  },
  {
   "cell_type": "markdown",
   "metadata": {},
   "source": [
    "Все значения в нечисловых столбцах адекватные, выбросов нет."
   ]
  },
  {
   "cell_type": "code",
   "execution_count": 8,
   "metadata": {},
   "outputs": [
    {
     "data": {
      "text/html": [
       "<div>\n",
       "<style scoped>\n",
       "    .dataframe tbody tr th:only-of-type {\n",
       "        vertical-align: middle;\n",
       "    }\n",
       "\n",
       "    .dataframe tbody tr th {\n",
       "        vertical-align: top;\n",
       "    }\n",
       "\n",
       "    .dataframe thead th {\n",
       "        text-align: right;\n",
       "    }\n",
       "</style>\n",
       "<table border=\"1\" class=\"dataframe\">\n",
       "  <thead>\n",
       "    <tr style=\"text-align: right;\">\n",
       "      <th></th>\n",
       "      <th>department</th>\n",
       "      <th>salary</th>\n",
       "    </tr>\n",
       "  </thead>\n",
       "  <tbody>\n",
       "    <tr>\n",
       "      <th>count</th>\n",
       "      <td>14999</td>\n",
       "      <td>14999</td>\n",
       "    </tr>\n",
       "    <tr>\n",
       "      <th>unique</th>\n",
       "      <td>10</td>\n",
       "      <td>3</td>\n",
       "    </tr>\n",
       "    <tr>\n",
       "      <th>top</th>\n",
       "      <td>sales</td>\n",
       "      <td>low</td>\n",
       "    </tr>\n",
       "    <tr>\n",
       "      <th>freq</th>\n",
       "      <td>4140</td>\n",
       "      <td>7316</td>\n",
       "    </tr>\n",
       "  </tbody>\n",
       "</table>\n",
       "</div>"
      ],
      "text/plain": [
       "       department salary\n",
       "count       14999  14999\n",
       "unique         10      3\n",
       "top         sales    low\n",
       "freq         4140   7316"
      ]
     },
     "execution_count": 8,
     "metadata": {},
     "output_type": "execute_result"
    }
   ],
   "source": [
    "df.loc[:, df.dtypes == 'object'].describe()"
   ]
  },
  {
   "cell_type": "markdown",
   "metadata": {},
   "source": [
    "Пропусков нет ни в одном столбце. Возможно, датасет синтетический."
   ]
  },
  {
   "cell_type": "markdown",
   "metadata": {},
   "source": [
    "#### 3.\n",
    "Рассчитайте и визуализировать корреляционную матрицу дляколичественных переменных. Определите две самые скоррелированные и две наименее скоррелированные переменные."
   ]
  },
  {
   "cell_type": "code",
   "execution_count": 9,
   "metadata": {},
   "outputs": [
    {
     "data": {
      "text/html": [
       "<div>\n",
       "<style scoped>\n",
       "    .dataframe tbody tr th:only-of-type {\n",
       "        vertical-align: middle;\n",
       "    }\n",
       "\n",
       "    .dataframe tbody tr th {\n",
       "        vertical-align: top;\n",
       "    }\n",
       "\n",
       "    .dataframe thead th {\n",
       "        text-align: right;\n",
       "    }\n",
       "</style>\n",
       "<table border=\"1\" class=\"dataframe\">\n",
       "  <thead>\n",
       "    <tr style=\"text-align: right;\">\n",
       "      <th></th>\n",
       "      <th>satisfaction_level</th>\n",
       "      <th>last_evaluation</th>\n",
       "      <th>number_project</th>\n",
       "      <th>average_montly_hours</th>\n",
       "      <th>time_spend_company</th>\n",
       "      <th>Work_accident</th>\n",
       "      <th>left</th>\n",
       "      <th>promotion_last_5years</th>\n",
       "    </tr>\n",
       "  </thead>\n",
       "  <tbody>\n",
       "    <tr>\n",
       "      <th>satisfaction_level</th>\n",
       "      <td>1.000000</td>\n",
       "      <td>0.105021</td>\n",
       "      <td>-0.142970</td>\n",
       "      <td>-0.020048</td>\n",
       "      <td>-0.100866</td>\n",
       "      <td>0.058697</td>\n",
       "      <td>-0.388375</td>\n",
       "      <td>0.025605</td>\n",
       "    </tr>\n",
       "    <tr>\n",
       "      <th>last_evaluation</th>\n",
       "      <td>0.105021</td>\n",
       "      <td>1.000000</td>\n",
       "      <td>0.349333</td>\n",
       "      <td>0.339742</td>\n",
       "      <td>0.131591</td>\n",
       "      <td>-0.007104</td>\n",
       "      <td>0.006567</td>\n",
       "      <td>-0.008684</td>\n",
       "    </tr>\n",
       "    <tr>\n",
       "      <th>number_project</th>\n",
       "      <td>-0.142970</td>\n",
       "      <td>0.349333</td>\n",
       "      <td>1.000000</td>\n",
       "      <td>0.417211</td>\n",
       "      <td>0.196786</td>\n",
       "      <td>-0.004741</td>\n",
       "      <td>0.023787</td>\n",
       "      <td>-0.006064</td>\n",
       "    </tr>\n",
       "    <tr>\n",
       "      <th>average_montly_hours</th>\n",
       "      <td>-0.020048</td>\n",
       "      <td>0.339742</td>\n",
       "      <td>0.417211</td>\n",
       "      <td>1.000000</td>\n",
       "      <td>0.127755</td>\n",
       "      <td>-0.010143</td>\n",
       "      <td>0.071287</td>\n",
       "      <td>-0.003544</td>\n",
       "    </tr>\n",
       "    <tr>\n",
       "      <th>time_spend_company</th>\n",
       "      <td>-0.100866</td>\n",
       "      <td>0.131591</td>\n",
       "      <td>0.196786</td>\n",
       "      <td>0.127755</td>\n",
       "      <td>1.000000</td>\n",
       "      <td>0.002120</td>\n",
       "      <td>0.144822</td>\n",
       "      <td>0.067433</td>\n",
       "    </tr>\n",
       "    <tr>\n",
       "      <th>Work_accident</th>\n",
       "      <td>0.058697</td>\n",
       "      <td>-0.007104</td>\n",
       "      <td>-0.004741</td>\n",
       "      <td>-0.010143</td>\n",
       "      <td>0.002120</td>\n",
       "      <td>1.000000</td>\n",
       "      <td>-0.154622</td>\n",
       "      <td>0.039245</td>\n",
       "    </tr>\n",
       "    <tr>\n",
       "      <th>left</th>\n",
       "      <td>-0.388375</td>\n",
       "      <td>0.006567</td>\n",
       "      <td>0.023787</td>\n",
       "      <td>0.071287</td>\n",
       "      <td>0.144822</td>\n",
       "      <td>-0.154622</td>\n",
       "      <td>1.000000</td>\n",
       "      <td>-0.061788</td>\n",
       "    </tr>\n",
       "    <tr>\n",
       "      <th>promotion_last_5years</th>\n",
       "      <td>0.025605</td>\n",
       "      <td>-0.008684</td>\n",
       "      <td>-0.006064</td>\n",
       "      <td>-0.003544</td>\n",
       "      <td>0.067433</td>\n",
       "      <td>0.039245</td>\n",
       "      <td>-0.061788</td>\n",
       "      <td>1.000000</td>\n",
       "    </tr>\n",
       "  </tbody>\n",
       "</table>\n",
       "</div>"
      ],
      "text/plain": [
       "                       satisfaction_level  last_evaluation  number_project  \\\n",
       "satisfaction_level               1.000000         0.105021       -0.142970   \n",
       "last_evaluation                  0.105021         1.000000        0.349333   \n",
       "number_project                  -0.142970         0.349333        1.000000   \n",
       "average_montly_hours            -0.020048         0.339742        0.417211   \n",
       "time_spend_company              -0.100866         0.131591        0.196786   \n",
       "Work_accident                    0.058697        -0.007104       -0.004741   \n",
       "left                            -0.388375         0.006567        0.023787   \n",
       "promotion_last_5years            0.025605        -0.008684       -0.006064   \n",
       "\n",
       "                       average_montly_hours  time_spend_company  \\\n",
       "satisfaction_level                -0.020048           -0.100866   \n",
       "last_evaluation                    0.339742            0.131591   \n",
       "number_project                     0.417211            0.196786   \n",
       "average_montly_hours               1.000000            0.127755   \n",
       "time_spend_company                 0.127755            1.000000   \n",
       "Work_accident                     -0.010143            0.002120   \n",
       "left                               0.071287            0.144822   \n",
       "promotion_last_5years             -0.003544            0.067433   \n",
       "\n",
       "                       Work_accident      left  promotion_last_5years  \n",
       "satisfaction_level          0.058697 -0.388375               0.025605  \n",
       "last_evaluation            -0.007104  0.006567              -0.008684  \n",
       "number_project             -0.004741  0.023787              -0.006064  \n",
       "average_montly_hours       -0.010143  0.071287              -0.003544  \n",
       "time_spend_company          0.002120  0.144822               0.067433  \n",
       "Work_accident               1.000000 -0.154622               0.039245  \n",
       "left                       -0.154622  1.000000              -0.061788  \n",
       "promotion_last_5years       0.039245 -0.061788               1.000000  "
      ]
     },
     "execution_count": 9,
     "metadata": {},
     "output_type": "execute_result"
    }
   ],
   "source": [
    "corr_m = df.corr()\n",
    "corr_m"
   ]
  },
  {
   "cell_type": "code",
   "execution_count": 10,
   "metadata": {},
   "outputs": [
    {
     "data": {
      "image/png": "[encoded data removed]",
      "text/plain": [
       "<Figure size 1080x360 with 2 Axes>"
      ]
     },
     "metadata": {
      "needs_background": "light"
     },
     "output_type": "display_data"
    }
   ],
   "source": [
    "fig, (ax1, ax2) = plt.subplots(1, 2, figsize=(15, 5))\n",
    "ax1.matshow(corr_m)\n",
    "ax2.matshow(corr_m**2)\n",
    "plt.show()"
   ]
  },
  {
   "cell_type": "code",
   "execution_count": 11,
   "metadata": {},
   "outputs": [
    {
     "name": "stdout",
     "output_type": "stream",
     "text": [
      "                       satisfaction_level  last_evaluation  number_project  \\\n",
      "satisfaction_level                    NaN              NaN             NaN   \n",
      "last_evaluation                       NaN              NaN             NaN   \n",
      "number_project                        NaN              NaN             NaN   \n",
      "average_montly_hours                  NaN              NaN             NaN   \n",
      "time_spend_company                    NaN              NaN             NaN   \n",
      "Work_accident                         NaN              NaN             NaN   \n",
      "left                                  NaN              NaN             NaN   \n",
      "promotion_last_5years                 NaN              NaN             NaN   \n",
      "\n",
      "                       average_montly_hours  time_spend_company  \\\n",
      "satisfaction_level                      NaN                 NaN   \n",
      "last_evaluation                         NaN                 NaN   \n",
      "number_project                          NaN                 NaN   \n",
      "average_montly_hours                    NaN                 NaN   \n",
      "time_spend_company                      NaN                 NaN   \n",
      "Work_accident                           NaN             0.00212   \n",
      "left                                    NaN                 NaN   \n",
      "promotion_last_5years                   NaN                 NaN   \n",
      "\n",
      "                       Work_accident  left  promotion_last_5years  \n",
      "satisfaction_level               NaN   NaN                    NaN  \n",
      "last_evaluation                  NaN   NaN                    NaN  \n",
      "number_project                   NaN   NaN                    NaN  \n",
      "average_montly_hours             NaN   NaN                    NaN  \n",
      "time_spend_company           0.00212   NaN                    NaN  \n",
      "Work_accident                    NaN   NaN                    NaN  \n",
      "left                             NaN   NaN                    NaN  \n",
      "promotion_last_5years            NaN   NaN                    NaN  \n",
      "                       satisfaction_level  last_evaluation  number_project  \\\n",
      "satisfaction_level                    NaN              NaN             NaN   \n",
      "last_evaluation                       NaN              NaN             NaN   \n",
      "number_project                        NaN              NaN             NaN   \n",
      "average_montly_hours                  NaN              NaN             NaN   \n",
      "time_spend_company                    NaN              NaN             NaN   \n",
      "Work_accident                         NaN              NaN             NaN   \n",
      "left                                  NaN              NaN             NaN   \n",
      "promotion_last_5years                 NaN              NaN             NaN   \n",
      "\n",
      "                       average_montly_hours  time_spend_company  \\\n",
      "satisfaction_level                      NaN                 NaN   \n",
      "last_evaluation                         NaN                 NaN   \n",
      "number_project                          NaN                 NaN   \n",
      "average_montly_hours                    NaN                 NaN   \n",
      "time_spend_company                      NaN                 NaN   \n",
      "Work_accident                           NaN                 NaN   \n",
      "left                                    NaN                 NaN   \n",
      "promotion_last_5years             -0.003544                 NaN   \n",
      "\n",
      "                       Work_accident  left  promotion_last_5years  \n",
      "satisfaction_level               NaN   NaN                    NaN  \n",
      "last_evaluation                  NaN   NaN                    NaN  \n",
      "number_project                   NaN   NaN                    NaN  \n",
      "average_montly_hours             NaN   NaN              -0.003544  \n",
      "time_spend_company               NaN   NaN                    NaN  \n",
      "Work_accident                    NaN   NaN                    NaN  \n",
      "left                             NaN   NaN                    NaN  \n",
      "promotion_last_5years            NaN   NaN                    NaN  \n",
      "                       satisfaction_level  last_evaluation  number_project  \\\n",
      "satisfaction_level                    NaN              NaN             NaN   \n",
      "last_evaluation                       NaN              NaN             NaN   \n",
      "number_project                        NaN              NaN             NaN   \n",
      "average_montly_hours                  NaN              NaN        0.417211   \n",
      "time_spend_company                    NaN              NaN             NaN   \n",
      "Work_accident                         NaN              NaN             NaN   \n",
      "left                                  NaN              NaN             NaN   \n",
      "promotion_last_5years                 NaN              NaN             NaN   \n",
      "\n",
      "                       average_montly_hours  time_spend_company  \\\n",
      "satisfaction_level                      NaN                 NaN   \n",
      "last_evaluation                         NaN                 NaN   \n",
      "number_project                     0.417211                 NaN   \n",
      "average_montly_hours                    NaN                 NaN   \n",
      "time_spend_company                      NaN                 NaN   \n",
      "Work_accident                           NaN                 NaN   \n",
      "left                                    NaN                 NaN   \n",
      "promotion_last_5years                   NaN                 NaN   \n",
      "\n",
      "                       Work_accident  left  promotion_last_5years  \n",
      "satisfaction_level               NaN   NaN                    NaN  \n",
      "last_evaluation                  NaN   NaN                    NaN  \n",
      "number_project                   NaN   NaN                    NaN  \n",
      "average_montly_hours             NaN   NaN                    NaN  \n",
      "time_spend_company               NaN   NaN                    NaN  \n",
      "Work_accident                    NaN   NaN                    NaN  \n",
      "left                             NaN   NaN                    NaN  \n",
      "promotion_last_5years            NaN   NaN                    NaN  \n",
      "                       satisfaction_level  last_evaluation  number_project  \\\n",
      "satisfaction_level                    NaN              NaN             NaN   \n",
      "last_evaluation                       NaN              NaN             NaN   \n",
      "number_project                        NaN              NaN             NaN   \n",
      "average_montly_hours                  NaN              NaN             NaN   \n",
      "time_spend_company                    NaN              NaN             NaN   \n",
      "Work_accident                         NaN              NaN             NaN   \n",
      "left                            -0.388375              NaN             NaN   \n",
      "promotion_last_5years                 NaN              NaN             NaN   \n",
      "\n",
      "                       average_montly_hours  time_spend_company  \\\n",
      "satisfaction_level                      NaN                 NaN   \n",
      "last_evaluation                         NaN                 NaN   \n",
      "number_project                          NaN                 NaN   \n",
      "average_montly_hours                    NaN                 NaN   \n",
      "time_spend_company                      NaN                 NaN   \n",
      "Work_accident                           NaN                 NaN   \n",
      "left                                    NaN                 NaN   \n",
      "promotion_last_5years                   NaN                 NaN   \n",
      "\n",
      "                       Work_accident      left  promotion_last_5years  \n",
      "satisfaction_level               NaN -0.388375                    NaN  \n",
      "last_evaluation                  NaN       NaN                    NaN  \n",
      "number_project                   NaN       NaN                    NaN  \n",
      "average_montly_hours             NaN       NaN                    NaN  \n",
      "time_spend_company               NaN       NaN                    NaN  \n",
      "Work_accident                    NaN       NaN                    NaN  \n",
      "left                             NaN       NaN                    NaN  \n",
      "promotion_last_5years            NaN       NaN                    NaN  \n"
     ]
    }
   ],
   "source": [
    "corr_values = sorted(corr_m.values.ravel(), key=np.abs)\n",
    "corr_values\n",
    "for i in [0, 2, -len(corr_m)-1, -len(corr_m) -3]:\n",
    "    print(corr_m.where(corr_m == corr_values[i]))"
   ]
  },
  {
   "cell_type": "markdown",
   "metadata": {},
   "source": [
    "Наиболее скоррелированные:\n",
    "corr(average_montly_hours, number_project) = 0.41;\n",
    "corr(left, satisfaction_level) = -0.39.\n",
    "\n",
    "Наименее скоррелированные:\n",
    "corr(time_spend_company, Work_accident) = 0.002120;\n",
    "corr(average_montly_hours, promotion_last_5years) = -0.003544."
   ]
  },
  {
   "cell_type": "markdown",
   "metadata": {},
   "source": [
    "1. Число проектов, в которых участвует сотрудник, и среднее число часов, отработанных за месяц, положительно скоррелированы. К сожалению, корреляция не позволяет сказать, какой из этих факторов является причиной, а какой следствием.\n",
    "2. У сотрудников покинувших компанию была более низкая удовлетворённость, чем у непокинувших. Если уровень удовлетворённости измерялся только у тех сотрудников, которые не знали о своём скором увольнении, то можно счтать, что низкая удовлетвроённость работой была причиной части увольнений.\n",
    "\n",
    "\n",
    "3. Интересна очень низкая корреляция между временем, отработанным сотрудником в компании, и его попадением в несчастные случаи. При этом довольно много сотрудников (14%) попадали в несчастные случаи. Видимо, вероятность попасть в несчастный случай не связана с выполнением ежедневных обязанностей на рабочем месте, а причины несчастных случаев -- внешние по отношению к рабочим процессам.\n",
    "4. Ещё одна интересная низкая корреляция связывает среднее количество часов, отработанных за месяц, и факт повышения в течение последних пяти лет. Видимо, в рассматриваемой компании больше ценят качество работы, чем её количество. "
   ]
  },
  {
   "cell_type": "markdown",
   "metadata": {},
   "source": [
    "#### 4.\n",
    "Рассчитайте сколько сотрудников работает в каждом департаменте."
   ]
  },
  {
   "cell_type": "code",
   "execution_count": 12,
   "metadata": {},
   "outputs": [
    {
     "name": "stdout",
     "output_type": "stream",
     "text": [
      "sales          3126\n",
      "technical      2023\n",
      "support        1674\n",
      "IT              954\n",
      "product_mng     704\n",
      "RandD           666\n",
      "marketing       655\n",
      "accounting      563\n",
      "management      539\n",
      "hr              524\n",
      "Name: department, dtype: int64\n"
     ]
    },
    {
     "data": {
      "image/png": "[encoded data removed]",
      "text/plain": [
       "<Figure size 1080x360 with 1 Axes>"
      ]
     },
     "metadata": {
      "needs_background": "light"
     },
     "output_type": "display_data"
    }
   ],
   "source": [
    "dep_distribution = df[df['left'] == 0].agg('department').value_counts()\n",
    "print(dep_distribution)\n",
    "\n",
    "deps_xx = np.arange(len(dep_distribution))\n",
    "fig, ax = plt.subplots(1, figsize=(15, 5))\n",
    "fig.autofmt_xdate(rotation=45)\n",
    "ax.bar(\n",
    "    x=deps_xx,\n",
    "    height=dep_distribution.values,\n",
    "    tick_label=dep_distribution.index,\n",
    ")\n",
    "ax.set_xlabel('Department')\n",
    "ax.set_ylabel('Number of workers')\n",
    "plt.grid()\n",
    "plt.show()"
   ]
  },
  {
   "cell_type": "markdown",
   "metadata": {},
   "source": [
    "В рассматриваемой компании самый большой отдел -- продажники, на втором месте -- технический персонал, на третьем поддержка. IT отдел на четвёртом месте по численности. Возможно, мы имеем дело с продуктовой IT компанией, в которой очень много сотрудников заняты продажей продуктов и поддержекой пользователей."
   ]
  },
  {
   "cell_type": "markdown",
   "metadata": {},
   "source": [
    "#### 5.\n",
    "Показать распределение сотрудников по зарплатам."
   ]
  },
  {
   "cell_type": "code",
   "execution_count": 13,
   "metadata": {},
   "outputs": [
    {
     "name": "stdout",
     "output_type": "stream",
     "text": [
      "low       5144\n",
      "medium    5129\n",
      "high      1155\n",
      "Name: salary, dtype: int64\n"
     ]
    },
    {
     "data": {
      "image/png": "[encoded data removed]",
      "text/plain": [
       "<Figure size 1080x360 with 1 Axes>"
      ]
     },
     "metadata": {
      "needs_background": "light"
     },
     "output_type": "display_data"
    }
   ],
   "source": [
    "salary_distribution = df[df['left'] == 0].agg('salary').value_counts()\n",
    "print(salary_distribution)\n",
    "\n",
    "fig, ax = plt.subplots(1, figsize=(15, 5))\n",
    "fig.autofmt_xdate(rotation=45)\n",
    "ax.bar(\n",
    "    x=list(range(len(salary_distribution))),\n",
    "    height=salary_distribution.values,\n",
    "    tick_label=salary_distribution.index,\n",
    ")\n",
    "ax.set_xlabel('Level of salary')\n",
    "ax.set_ylabel('Number of workers')\n",
    "plt.grid()\n",
    "plt.show()"
   ]
  },
  {
   "cell_type": "code",
   "execution_count": 14,
   "metadata": {},
   "outputs": [
    {
     "data": {
      "text/plain": [
       "10.106755337766888"
      ]
     },
     "execution_count": 14,
     "metadata": {},
     "output_type": "execute_result"
    }
   ],
   "source": [
    "1155/len(df[df['left']==0])*100"
   ]
  },
  {
   "cell_type": "markdown",
   "metadata": {},
   "source": [
    "Всего 10% процентов работников имеет высокую зарплату. По 45% работников получают низкую и среднюю зарплаты."
   ]
  },
  {
   "cell_type": "markdown",
   "metadata": {},
   "source": [
    "#### 6.\n",
    "Показать распределение сотрудников по зарплатам в каждом департаменте по отдельности."
   ]
  },
  {
   "cell_type": "code",
   "execution_count": 15,
   "metadata": {},
   "outputs": [
    {
     "data": {
      "image/png": "[encoded data removed]",
      "text/plain": [
       "<Figure size 1080x360 with 1 Axes>"
      ]
     },
     "metadata": {
      "needs_background": "light"
     },
     "output_type": "display_data"
    }
   ],
   "source": [
    "wages = ['low', 'medium', 'high']\n",
    "salaries_distr = dict()\n",
    "for salary in wages:\n",
    "    salaries_distr[salary] = (df\n",
    "        .loc[(df['left'] == 0) & (df['salary'] == salary)]\n",
    "        .groupby(['department']).size()\n",
    "        )\n",
    "\n",
    "all_salaries = salaries_distr['low'] + salaries_distr['medium'] + salaries_distr['high']\n",
    "low_salary_percents = salaries_distr['low']/all_salaries*100\n",
    "medium_salary_percents = salaries_distr['medium']/all_salaries*100\n",
    "high_salary_percents = salaries_distr['high']/all_salaries*100\n",
    "\n",
    "fig, ax = plt.subplots(1, figsize=(15, 5))\n",
    "\n",
    "p1 = ax.bar(deps_xx, low_salary_percents)\n",
    "p2 = ax.bar(\n",
    "    deps_xx, medium_salary_percents,\n",
    "    bottom=low_salary_percents\n",
    ")\n",
    "p3 = ax.bar(\n",
    "    deps_xx, high_salary_percents,\n",
    "    bottom=low_salary_percents+medium_salary_percents\n",
    ")\n",
    "\n",
    "\n",
    "plt.xticks(deps_xx, salaries_distr[salary].index)\n",
    "plt.legend((p3[0], p2[0], p1[0]), reversed(wages))\n",
    "ax.set_xlabel('Department')\n",
    "ax.set_ylabel('Percent of workers')\n",
    "fig.autofmt_xdate(rotation=45)"
   ]
  },
  {
   "cell_type": "markdown",
   "metadata": {},
   "source": [
    "Распределение сотрудников по зарплатам внутри всех подразделений, за исключением отдела менеджмента, очень похоже между собой и близко к распределению зарплат среди всего коллектива. Исключение составляет отдел мнеджмента, где 42% сотрудников получает высокую зарплату и только 22% -- низкую."
   ]
  },
  {
   "cell_type": "markdown",
   "metadata": {},
   "source": [
    "#### 7.\n",
    "Проверить гипотезу, что сотрудники с высоким окладом проводят на работе больше времени, чем сотрудники с низким окладом."
   ]
  },
  {
   "cell_type": "code",
   "execution_count": 16,
   "metadata": {},
   "outputs": [
    {
     "name": "stdout",
     "output_type": "stream",
     "text": [
      "200.9965828321487 199.86742118027485\n",
      "(Mean(statistic=200.9965828321487, minmax=(199.83186536925467, 202.16130029504274)), Variance(statistic=2583.560813910716, minmax=(2499.8377854870505, 2667.283842334382)), Std_dev(statistic=50.82874003859151, minmax=(50.00516042241276, 51.65231965477027))) \n",
      "\n",
      "(Mean(statistic=199.86742118027485, minmax=(197.20975090433825, 202.52509145621144)), Variance(statistic=2274.446448725598, minmax=(2095.1985988201172, 2453.694298631079)), Std_dev(statistic=47.69115692374844, minmax=(45.81190024947575, 49.570413598021126)))\n"
     ]
    },
    {
     "data": {
      "text/plain": [
       "MannwhitneyuResult(statistic=4507096.5, pvalue=0.4120665360429347)"
      ]
     },
     "execution_count": 16,
     "metadata": {},
     "output_type": "execute_result"
    }
   ],
   "source": [
    "low_paid_hours = df.loc[df['salary'] == 'low', 'average_montly_hours']\n",
    "high_paid_hours = df.loc[df['salary'] == 'high', 'average_montly_hours']\n",
    "print(low_paid_hours.mean(), high_paid_hours.mean())\n",
    "\n",
    "print(st.bayes_mvs(low_paid_hours, 0.95), '\\n')\n",
    "print(st.bayes_mvs(high_paid_hours, 0.95))\n",
    "# Variances are significantly different\n",
    "st.mannwhitneyu(low_paid_hours, high_paid_hours)"
   ]
  },
  {
   "cell_type": "markdown",
   "metadata": {},
   "source": [
    "Гипотеза не подтвердилась. В рассматриваемой компании и высокооплачиваемые сотрудники и низкооплачиваемые сотрудники работают в серденем по 25 восьмичасовых рабочих дня в месяц."
   ]
  },
  {
   "cell_type": "markdown",
   "metadata": {},
   "source": [
    "#### 8.\n",
    "Рассчитать следующие показатели среди уволившихся и неуволившихся сотрудников (по отдельности):\n",
    "\n",
    "   ##### ● Доля сотрудников с повышением за последние 5 лет;\n",
    "\n"
   ]
  },
  {
   "cell_type": "code",
   "execution_count": 17,
   "metadata": {},
   "outputs": [
    {
     "data": {
      "text/html": [
       "<div>\n",
       "<style scoped>\n",
       "    .dataframe tbody tr th:only-of-type {\n",
       "        vertical-align: middle;\n",
       "    }\n",
       "\n",
       "    .dataframe tbody tr th {\n",
       "        vertical-align: top;\n",
       "    }\n",
       "\n",
       "    .dataframe thead th {\n",
       "        text-align: right;\n",
       "    }\n",
       "</style>\n",
       "<table border=\"1\" class=\"dataframe\">\n",
       "  <thead>\n",
       "    <tr style=\"text-align: right;\">\n",
       "      <th></th>\n",
       "      <th></th>\n",
       "      <th>satisfaction_level</th>\n",
       "      <th>last_evaluation</th>\n",
       "      <th>number_project</th>\n",
       "      <th>average_montly_hours</th>\n",
       "      <th>time_spend_company</th>\n",
       "      <th>Work_accident</th>\n",
       "      <th>department</th>\n",
       "      <th>salary</th>\n",
       "    </tr>\n",
       "    <tr>\n",
       "      <th>left</th>\n",
       "      <th>promotion_last_5years</th>\n",
       "      <th></th>\n",
       "      <th></th>\n",
       "      <th></th>\n",
       "      <th></th>\n",
       "      <th></th>\n",
       "      <th></th>\n",
       "      <th></th>\n",
       "      <th></th>\n",
       "    </tr>\n",
       "  </thead>\n",
       "  <tbody>\n",
       "    <tr>\n",
       "      <th rowspan=\"2\" valign=\"top\">0</th>\n",
       "      <th>0</th>\n",
       "      <td>11128</td>\n",
       "      <td>11128</td>\n",
       "      <td>11128</td>\n",
       "      <td>11128</td>\n",
       "      <td>11128</td>\n",
       "      <td>11128</td>\n",
       "      <td>11128</td>\n",
       "      <td>11128</td>\n",
       "    </tr>\n",
       "    <tr>\n",
       "      <th>1</th>\n",
       "      <td>300</td>\n",
       "      <td>300</td>\n",
       "      <td>300</td>\n",
       "      <td>300</td>\n",
       "      <td>300</td>\n",
       "      <td>300</td>\n",
       "      <td>300</td>\n",
       "      <td>300</td>\n",
       "    </tr>\n",
       "    <tr>\n",
       "      <th rowspan=\"2\" valign=\"top\">1</th>\n",
       "      <th>0</th>\n",
       "      <td>3552</td>\n",
       "      <td>3552</td>\n",
       "      <td>3552</td>\n",
       "      <td>3552</td>\n",
       "      <td>3552</td>\n",
       "      <td>3552</td>\n",
       "      <td>3552</td>\n",
       "      <td>3552</td>\n",
       "    </tr>\n",
       "    <tr>\n",
       "      <th>1</th>\n",
       "      <td>19</td>\n",
       "      <td>19</td>\n",
       "      <td>19</td>\n",
       "      <td>19</td>\n",
       "      <td>19</td>\n",
       "      <td>19</td>\n",
       "      <td>19</td>\n",
       "      <td>19</td>\n",
       "    </tr>\n",
       "  </tbody>\n",
       "</table>\n",
       "</div>"
      ],
      "text/plain": [
       "                            satisfaction_level  last_evaluation  \\\n",
       "left promotion_last_5years                                        \n",
       "0    0                                   11128            11128   \n",
       "     1                                     300              300   \n",
       "1    0                                    3552             3552   \n",
       "     1                                      19               19   \n",
       "\n",
       "                            number_project  average_montly_hours  \\\n",
       "left promotion_last_5years                                         \n",
       "0    0                               11128                 11128   \n",
       "     1                                 300                   300   \n",
       "1    0                                3552                  3552   \n",
       "     1                                  19                    19   \n",
       "\n",
       "                            time_spend_company  Work_accident  department  \\\n",
       "left promotion_last_5years                                                  \n",
       "0    0                                   11128          11128       11128   \n",
       "     1                                     300            300         300   \n",
       "1    0                                    3552           3552        3552   \n",
       "     1                                      19             19          19   \n",
       "\n",
       "                            salary  \n",
       "left promotion_last_5years          \n",
       "0    0                       11128  \n",
       "     1                         300  \n",
       "1    0                        3552  \n",
       "     1                          19  "
      ]
     },
     "execution_count": 17,
     "metadata": {},
     "output_type": "execute_result"
    }
   ],
   "source": [
    "gdf = df.groupby(['left', 'promotion_last_5years']).agg('count')\n",
    "gdf"
   ]
  },
  {
   "cell_type": "code",
   "execution_count": 18,
   "metadata": {},
   "outputs": [
    {
     "name": "stdout",
     "output_type": "stream",
     "text": [
      "percent of promoted in left group: 0.53\n",
      "percent of promoted in not left group: 2.63\n",
      "Pvalue is 0.000\n"
     ]
    }
   ],
   "source": [
    "gdf = gdf['salary']\n",
    "promoted_left = gdf[(1, 1)]\n",
    "all_left = gdf[(1, 0)] + gdf[(1, 1)]\n",
    "\n",
    "promoted_not_left = gdf[(0, 1)]\n",
    "all_not_left = gdf[(0, 0)] + gdf[(0, 1)]\n",
    "\n",
    "print(f'percent of promoted in left group: {promoted_left/all_left*100:.2f}')\n",
    "print(f'percent of promoted in not left group: {promoted_not_left/all_not_left*100:.2f}')\n",
    "\n",
    "oddsratio, pvalue = st.fisher_exact(\n",
    "    [\n",
    "        [gdf[(0, 0)], gdf[(0, 1)]],\n",
    "        [gdf[(1, 0)], gdf[(1, 1)]]\n",
    "    ]\n",
    ")\n",
    "print(f'Pvalue is {pvalue:.3f}')"
   ]
  },
  {
   "cell_type": "markdown",
   "metadata": {},
   "source": [
    "Процент повышенных среди тех, кто покинул компанию в 5 раз ниже, чем серди тех, кто не покинул. Различие этих долей статистически значимо согласно точному тесту Фишера на уровне p<0.001."
   ]
  },
  {
   "cell_type": "markdown",
   "metadata": {},
   "source": [
    "##### ● Средняя степень удовлетворенности"
   ]
  },
  {
   "cell_type": "code",
   "execution_count": 19,
   "metadata": {},
   "outputs": [
    {
     "name": "stdout",
     "output_type": "stream",
     "text": [
      "left\n",
      "0    0.666810\n",
      "1    0.440098\n",
      "Name: satisfaction_level, dtype: float64\n"
     ]
    },
    {
     "data": {
      "text/plain": [
       "MannwhitneyuResult(statistic=10286473.0, pvalue=0.0)"
      ]
     },
     "execution_count": 19,
     "metadata": {},
     "output_type": "execute_result"
    }
   ],
   "source": [
    "print(df.groupby(['left']).agg('mean')['satisfaction_level'])\n",
    "st.mannwhitneyu(\n",
    "    df[df['left'] == 0]['satisfaction_level'],\n",
    "    df[df['left'] == 1]['satisfaction_level']\n",
    ")"
   ]
  },
  {
   "cell_type": "markdown",
   "metadata": {},
   "source": [
    "Покинувшие компанию сотрудники имели значительно более низкий уровень удовлетворённости, чем непокинувшие."
   ]
  },
  {
   "cell_type": "markdown",
   "metadata": {},
   "source": [
    "##### ● Среднее количество проектов"
   ]
  },
  {
   "cell_type": "code",
   "execution_count": 20,
   "metadata": {},
   "outputs": [
    {
     "name": "stdout",
     "output_type": "stream",
     "text": [
      "left\n",
      "0    3.786664\n",
      "1    3.855503\n",
      "Name: number_project, dtype: float64\n"
     ]
    },
    {
     "data": {
      "text/plain": [
       "MannwhitneyuResult(statistic=19879241.0, pvalue=0.008345878306054643)"
      ]
     },
     "execution_count": 20,
     "metadata": {},
     "output_type": "execute_result"
    }
   ],
   "source": [
    "print(df.groupby(['left']).agg('mean')['number_project'])\n",
    "st.mannwhitneyu(\n",
    "    df[df['left'] == 0]['number_project'],\n",
    "    df[df['left'] == 1]['number_project']\n",
    ")"
   ]
  },
  {
   "cell_type": "markdown",
   "metadata": {},
   "source": [
    "Покинувшие компаниию работники в среднем участвовали в большем количестве проектов. Разница между уволившимися и оставшимися порядка двух процетнов, но она статистически значима в соответсвии с тестом Мана-Уитни за уровне p=0.008.\n",
    "\n",
    "Однако, этот результат может быть объяснён автокорреляцией. Известно, что в среднем покинувшие компанию сотрудники успевали проработать в ней более длительное время. За это более длительное время они успевали поучаствовать в большем количестве проектов."
   ]
  },
  {
   "cell_type": "code",
   "execution_count": 24,
   "metadata": {},
   "outputs": [
    {
     "name": "stdout",
     "output_type": "stream",
     "text": [
      "left\n",
      "0    3.380032\n",
      "1    3.876505\n",
      "Name: time_spend_company, dtype: float64\n"
     ]
    },
    {
     "data": {
      "text/plain": [
       "MannwhitneyuResult(statistic=13331224.0, pvalue=4.330385960458912e-238)"
      ]
     },
     "execution_count": 24,
     "metadata": {},
     "output_type": "execute_result"
    }
   ],
   "source": [
    "print(df.groupby(['left']).agg('mean')['time_spend_company'])\n",
    "st.mannwhitneyu(\n",
    "    df[df['left'] == 0]['time_spend_company'],\n",
    "    df[df['left'] == 1]['time_spend_company']\n",
    ")"
   ]
  },
  {
   "cell_type": "markdown",
   "metadata": {},
   "source": [
    "Уволившиеся сотрудники в среднем прорабатывали в компании больше, чем ещё неуволившиеся. Возможно, неуволившиеся ещё просто не проработали некоторое критическое время."
   ]
  },
  {
   "cell_type": "code",
   "execution_count": 53,
   "metadata": {},
   "outputs": [
    {
     "data": {
      "text/plain": [
       "MannwhitneyuResult(statistic=19815628.5, pvalue=0.0018148053195891972)"
      ]
     },
     "execution_count": 53,
     "metadata": {},
     "output_type": "execute_result"
    }
   ],
   "source": [
    "mapper = {0: 'low', 1: 'medium', 2: 'high'}\n",
    "nomvar = df['salary'].replace(mapper)\n",
    "\n",
    "\n",
    "df['salary_coded'] = nomvar\n",
    "st.mannwhitneyu(\n",
    "   df[df['left'] == 1]['salary_coded'],\n",
    "   df[df['left'] == 0]['salary_coded']\n",
    ")"
   ]
  },
  {
   "cell_type": "code",
   "execution_count": 121,
   "metadata": {},
   "outputs": [
    {
     "name": "stdout",
     "output_type": "stream",
     "text": [
      "left\n",
      "0    0.650945\n",
      "1    0.414730\n",
      "Name: salary_coded, dtype: float64\n"
     ]
    }
   ],
   "source": [
    "df['salary_coded'] = nomvar.factorize()[0]\n",
    "print(df.groupby('left').mean()['salary_coded'])\n",
    "del df['salary_coded']"
   ]
  },
  {
   "cell_type": "markdown",
   "metadata": {},
   "source": [
    "Уволившиеся также получали меньшую зарплату."
   ]
  },
  {
   "cell_type": "markdown",
   "metadata": {},
   "source": [
    "#### 9.\n",
    "Разделить данные на тестовую и обучающую выборки. Построить модель LDA, предсказывающую уволился ли сотрудник на основе имеющихся факторов (кроме department и salary). Оценить качество модели на тестовой выборке."
   ]
  },
  {
   "cell_type": "code",
   "execution_count": 137,
   "metadata": {},
   "outputs": [
    {
     "data": {
      "text/html": [
       "<div>\n",
       "<style scoped>\n",
       "    .dataframe tbody tr th:only-of-type {\n",
       "        vertical-align: middle;\n",
       "    }\n",
       "\n",
       "    .dataframe tbody tr th {\n",
       "        vertical-align: top;\n",
       "    }\n",
       "\n",
       "    .dataframe thead th {\n",
       "        text-align: right;\n",
       "    }\n",
       "</style>\n",
       "<table border=\"1\" class=\"dataframe\">\n",
       "  <thead>\n",
       "    <tr style=\"text-align: right;\">\n",
       "      <th></th>\n",
       "      <th>satisfaction_level</th>\n",
       "      <th>last_evaluation</th>\n",
       "      <th>number_project</th>\n",
       "      <th>average_montly_hours</th>\n",
       "      <th>time_spend_company</th>\n",
       "      <th>Work_accident</th>\n",
       "      <th>left</th>\n",
       "      <th>promotion_last_5years</th>\n",
       "    </tr>\n",
       "  </thead>\n",
       "  <tbody>\n",
       "    <tr>\n",
       "      <th>0</th>\n",
       "      <td>0.38</td>\n",
       "      <td>0.53</td>\n",
       "      <td>2</td>\n",
       "      <td>157</td>\n",
       "      <td>3</td>\n",
       "      <td>0</td>\n",
       "      <td>1</td>\n",
       "      <td>0</td>\n",
       "    </tr>\n",
       "    <tr>\n",
       "      <th>1</th>\n",
       "      <td>0.80</td>\n",
       "      <td>0.86</td>\n",
       "      <td>5</td>\n",
       "      <td>262</td>\n",
       "      <td>6</td>\n",
       "      <td>0</td>\n",
       "      <td>1</td>\n",
       "      <td>0</td>\n",
       "    </tr>\n",
       "    <tr>\n",
       "      <th>2</th>\n",
       "      <td>0.11</td>\n",
       "      <td>0.88</td>\n",
       "      <td>7</td>\n",
       "      <td>272</td>\n",
       "      <td>4</td>\n",
       "      <td>0</td>\n",
       "      <td>1</td>\n",
       "      <td>0</td>\n",
       "    </tr>\n",
       "    <tr>\n",
       "      <th>3</th>\n",
       "      <td>0.72</td>\n",
       "      <td>0.87</td>\n",
       "      <td>5</td>\n",
       "      <td>223</td>\n",
       "      <td>5</td>\n",
       "      <td>0</td>\n",
       "      <td>1</td>\n",
       "      <td>0</td>\n",
       "    </tr>\n",
       "    <tr>\n",
       "      <th>4</th>\n",
       "      <td>0.37</td>\n",
       "      <td>0.52</td>\n",
       "      <td>2</td>\n",
       "      <td>159</td>\n",
       "      <td>3</td>\n",
       "      <td>0</td>\n",
       "      <td>1</td>\n",
       "      <td>0</td>\n",
       "    </tr>\n",
       "  </tbody>\n",
       "</table>\n",
       "</div>"
      ],
      "text/plain": [
       "   satisfaction_level  last_evaluation  number_project  average_montly_hours  \\\n",
       "0                0.38             0.53               2                   157   \n",
       "1                0.80             0.86               5                   262   \n",
       "2                0.11             0.88               7                   272   \n",
       "3                0.72             0.87               5                   223   \n",
       "4                0.37             0.52               2                   159   \n",
       "\n",
       "   time_spend_company  Work_accident  left  promotion_last_5years  \n",
       "0                   3              0     1                      0  \n",
       "1                   6              0     1                      0  \n",
       "2                   4              0     1                      0  \n",
       "3                   5              0     1                      0  \n",
       "4                   3              0     1                      0  "
      ]
     },
     "execution_count": 137,
     "metadata": {},
     "output_type": "execute_result"
    }
   ],
   "source": [
    "# df no objects\n",
    "df_no = df.drop(labels = (df.loc[:, df.dtypes == 'object'].columns), axis=1) \n",
    "df_no.head()"
   ]
  },
  {
   "cell_type": "code",
   "execution_count": 138,
   "metadata": {},
   "outputs": [],
   "source": [
    "from sklearn.model_selection import train_test_split\n",
    "data_train, data_test = train_test_split(df_no, test_size=0.2, random_state=18)\n",
    "\n",
    "y_train, y_test = data_train['left'], data_test['left']\n",
    "del data_train['left']\n",
    "del data_test['left']"
   ]
  },
  {
   "cell_type": "code",
   "execution_count": 139,
   "metadata": {},
   "outputs": [
    {
     "name": "stdout",
     "output_type": "stream",
     "text": [
      "Accuracy =  0.769\n",
      "0.7619174611640777\n"
     ]
    }
   ],
   "source": [
    "from sklearn.discriminant_analysis import LinearDiscriminantAnalysis\n",
    "lda = LinearDiscriminantAnalysis()\n",
    "lda.fit(data_train, y_train)\n",
    "lda.predict(data_test)\n",
    "result = pd.DataFrame([y_test.values, lda.predict(data_test)]).T\n",
    "from sklearn.metrics import accuracy_score, confusion_matrix\n",
    "print('Accuracy = ', accuracy_score(result[0], result[1]))\n",
    "print(accuracy_score(df['left'], np.zeros(len(df))))\n",
    "cm = confusion_matrix(y_test, lda.predict(data_test), labels=[0, 1])\n"
   ]
  },
  {
   "cell_type": "markdown",
   "metadata": {},
   "source": [
    "Точность модели почти такая же, как если бы мы всех людей сочли оставшимися в компании."
   ]
  },
  {
   "cell_type": "code",
   "execution_count": 125,
   "metadata": {},
   "outputs": [
    {
     "name": "stdout",
     "output_type": "stream",
     "text": [
      "         Success,    Misses,  % of misses \n",
      "Not_left   2134       177         7.7\n",
      "Left       516        173         25.1\n"
     ]
    }
   ],
   "source": [
    "print('         Success,    Misses,  % of misses ')\n",
    "print(f'Not_left   {cm[0][0]}       {cm[0][1]}         {cm[0][1]/cm[0].sum()*100:.1f}')\n",
    "print(f'Left       {cm[1][0]}        {cm[1][1]}         {cm[1][1]/cm[1].sum()*100:.1f}')"
   ]
  },
  {
   "cell_type": "markdown",
   "metadata": {},
   "source": [
    "Однако модель смогла найти 75% уволившихся. Модель лучше справляется с угадыванием тех, кто не покинул компанию. Это выглядит логично, потомучто в датасете больше примером тех, кто не уволился."
   ]
  },
  {
   "cell_type": "markdown",
   "metadata": {},
   "source": [
    "Попробуем добавить в модель данные по зарплатам."
   ]
  },
  {
   "cell_type": "code",
   "execution_count": 133,
   "metadata": {},
   "outputs": [
    {
     "name": "stdout",
     "output_type": "stream",
     "text": [
      "Accuracy =  0.7806666666666666\n"
     ]
    }
   ],
   "source": [
    "df_no = df_no.join(pd.get_dummies(nomvar))\n",
    "\n",
    "data_train, data_test = train_test_split(df_no, test_size=0.2, random_state=18)\n",
    "\n",
    "y_train, y_test = data_train['left'], data_test['left']\n",
    "del data_train['left']\n",
    "del data_test['left']\n",
    "\n",
    "from sklearn.discriminant_analysis import LinearDiscriminantAnalysis\n",
    "lda = LinearDiscriminantAnalysis()\n",
    "lda.fit(data_train, y_train)\n",
    "lda.predict(data_test)\n",
    "result = pd.DataFrame([y_test.values, lda.predict(data_test)]).T\n",
    "from sklearn.metrics import accuracy_score, confusion_matrix\n",
    "print('Accuracy = ', accuracy_score(result[0], result[1]))\n",
    "\n",
    "cm = confusion_matrix(y_test, lda.predict(data_test), labels=[0, 1])"
   ]
  },
  {
   "cell_type": "code",
   "execution_count": 134,
   "metadata": {},
   "outputs": [
    {
     "name": "stdout",
     "output_type": "stream",
     "text": [
      "         Success,    Misses,  % of misses \n",
      "Not_left   2130       181         7.8\n",
      "Left       477        212         30.8\n"
     ]
    }
   ],
   "source": [
    "print('         Success,    Misses,  % of misses ')\n",
    "print(f'Not_left   {cm[0][0]}       {cm[0][1]}         {cm[0][1]/cm[0].sum()*100:.1f}')\n",
    "print(f'Left       {cm[1][0]}        {cm[1][1]}         {cm[1][1]/cm[1].sum()*100:.1f}')"
   ]
  },
  {
   "cell_type": "markdown",
   "metadata": {},
   "source": [
    "Теперь модель нашла только 70% уволившихся. При это несколько возросла общая точность. Произошло переобучение?"
   ]
  }
 ],
 "metadata": {
  "kernelspec": {
   "display_name": "Python 3",
   "language": "python",
   "name": "python3"
  },
  "language_info": {
   "codemirror_mode": {
    "name": "ipython",
    "version": 3
   },
   "file_extension": ".py",
   "mimetype": "text/x-python",
   "name": "python",
   "nbconvert_exporter": "python",
   "pygments_lexer": "ipython3",
   "version": "3.8.5"
  }
 },
 "nbformat": 4,
 "nbformat_minor": 4
}
