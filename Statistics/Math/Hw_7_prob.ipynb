{
 "cells": [
  {
   "cell_type": "markdown",
   "metadata": {},
   "source": [
    "### Уровень 0\n",
    "#### Задание 1\n",
    "Монетку подбрасывают 15 раз, найдите вероятность выпадения простого числа орлов (решение на бумажке и на python)."
   ]
  },
  {
   "cell_type": "markdown",
   "metadata": {},
   "source": [
    "Простые числа меньше 15: 2, 3, 5, 7, 11, 13\n",
    "\n",
    "Вероятность выпадения ровно двух орлов:\n",
    "$ \\frac{15\\cdot14}{2!}\\cdot\\frac{1}{2^{15}} = 105\\cdot\\frac{1}{2^{15}} $\n",
    "\n",
    "Вероятность выпадения ровно трёх орлов:\n",
    "$ \\frac{15\\cdot14\\cdot13}{3!}\\cdot\\frac{1}{2^{15}} = 455\\cdot\\frac{1}{2^{15}} $\n",
    "\n",
    "\n",
    "Вероятность выпадения ровно пяти орлов:\n",
    "$ \\frac{15!}{(15 - 5)!\\cdot5!}\\cdot\\frac{1}{2^{15}} = 3003\\cdot\\frac{1}{2^{15}} $\n",
    "\n",
    "\n",
    "Вероятность выпадения ровно семи орлов:\n",
    "$ \\frac{15!}{(15 - 7)!\\cdot7!}\\cdot\\frac{1}{2^{15}} = 6435\\cdot\\frac{1}{2^{15}} $\n",
    "\n",
    "\n",
    "Вероятность выпадения ровно одиннадцати орлов:\n",
    "$ \\frac{15!}{(15 - 11)!\\cdot11!}\\cdot\\frac{1}{2^{15}} = 1365\\cdot\\frac{1}{2^{15}} $\n",
    "\n",
    "Вероятность выпадения ровно 13 орлов:\n",
    "$ \\frac{15!}{(15 - 13)!\\cdot13!}\\cdot\\frac{1}{2^{15}} = 105\\cdot\\frac{1}{2^{15}} $"
   ]
  },
  {
   "cell_type": "markdown",
   "metadata": {},
   "source": [
    "Вероятность выпадения простого числа орлов:\n",
    "$ (105 + 455 + 3003 + 6435 + 1365 + 105)\\cdot\\frac{1}{2^{15}} \\approx 0.35 $"
   ]
  },
  {
   "cell_type": "code",
   "execution_count": 7,
   "metadata": {},
   "outputs": [
    {
     "name": "stdout",
     "output_type": "stream",
     "text": [
      "Probability of simple number of heads is 0.350766\n"
     ]
    }
   ],
   "source": [
    "# Monte carlo solution\n",
    "from random import choice\n",
    "\n",
    "succesess = [2, 3, 5, 7, 11, 13]\n",
    "n_full = 1_000_000\n",
    "full_success = 0\n",
    "for i in range(n_full):\n",
    "    trial_success = 0\n",
    "    for j in range(15):\n",
    "        trial_success += choice([0,1])\n",
    "    if trial_success in succesess:\n",
    "        full_success += 1\n",
    "print('Probability of simple number of heads is', full_success/n_full)"
   ]
  },
  {
   "cell_type": "code",
   "execution_count": 10,
   "metadata": {},
   "outputs": [
    {
     "name": "stdout",
     "output_type": "stream",
     "text": [
      "Probability of simple number of heads is 0.3499755859375\n"
     ]
    }
   ],
   "source": [
    "# Brute force search\n",
    "n_of_good_ends = 0\n",
    "for i in range(int(2**15)):\n",
    "        b = bin(i)\n",
    "        trial = sum(int(x) for x in str(b)[2:])\n",
    "        if trial in succesess:\n",
    "            n_of_good_ends += 1\n",
    "print('Probability of simple number of heads is', n_of_good_ends/2**15)"
   ]
  },
  {
   "cell_type": "markdown",
   "metadata": {},
   "source": [
    "### Задание 2\n",
    "Создайте свою дискретную случайную величину с не менее, чем 10 значениями. Просемплируйте 1000 случайных значений, постройте гистограмму плотности распределения по выборке, посчитайте среднее, дисперсию и медиану."
   ]
  },
  {
   "cell_type": "code",
   "execution_count": 12,
   "metadata": {},
   "outputs": [],
   "source": [
    "my_var = (1, 2, 2, 3, 4, 4, 5, 6, 6, 7, 8, 8, 9, 10, 10)\n",
    "\n",
    "sample = []\n",
    "for i in range(1000):\n",
    "    sample.append(choice(my_var))"
   ]
  },
  {
   "cell_type": "code",
   "execution_count": 15,
   "metadata": {},
   "outputs": [
    {
     "name": "stdout",
     "output_type": "stream",
     "text": [
      "Среднее выборки  5.706\n",
      "Медиана выборки 6.0\n",
      "Дисперсия выборки 8.403967967967969\n"
     ]
    }
   ],
   "source": [
    "from statistics import mean, median, variance\n",
    "print(\"Среднее выборки \", mean(sample))\n",
    "print('Медиана выборки', median(sample))\n",
    "print('Дисперсия выборки', variance(sample))"
   ]
  },
  {
   "cell_type": "code",
   "execution_count": 19,
   "metadata": {},
   "outputs": [
    {
     "data": {
      "image/png": "[encoded data removed]",
      "text/plain": [
       "<Figure size 432x288 with 1 Axes>"
      ]
     },
     "metadata": {
      "needs_background": "light"
     },
     "output_type": "display_data"
    }
   ],
   "source": [
    "import matplotlib.pyplot as plt\n",
    "\n",
    "fig = plt.figure()\n",
    "ax = fig.add_subplot(111)\n",
    "ax_1 = ax.hist(sample, density=True)\n",
    "ax.set_xlabel('Random variable value')\n",
    "ax.set_ylabel('Frequency')\n",
    "t = plt.title('Distribution of sample from my_var random variable')"
   ]
  },
  {
   "cell_type": "markdown",
   "metadata": {},
   "source": [
    "### Уровень 1\n",
    "\n",
    "#### Задание 3\n",
    "\n",
    "Пусть брошены 3 уравновешенные монеты. Рассмотрим 3 события:\n",
    "\n",
    "$A_1$ - монеты 1 и 2 упали одной и той же стороной,\n",
    "\n",
    "$A_2$ - монеты 2 и 3 упали одной и той же стороной,\n",
    "\n",
    "$A_3$ - монеты 1 и 3 упали одной и той же стороной.\n",
    "\n",
    "Покажите, почему эти 3 события являются попарно независимыми, но не являются независимыми в совокупности.\n",
    "\n",
    "\n"
   ]
  },
  {
   "cell_type": "markdown",
   "metadata": {},
   "source": [
    "Изобразим всю группу событий:\n",
    "$ 0 0 0 - A_1, A_2, A_3 $\n",
    "\n",
    "$ 0 0 1 - A_1, A_2 $\n",
    "\n",
    "$ 0 1 0 - A_3 $\n",
    "\n",
    "$ 0 1 1 - A_2 $\n",
    "\n",
    "$ 1 0 0 - A_2 $\n",
    "\n",
    "$ 1 0 1 - A_3 $\n",
    "\n",
    "$ 1 1 0 - A_1 $\n",
    "\n",
    "$ 1 1 1 - A_1, A_2, A_3 $"
   ]
  },
  {
   "cell_type": "markdown",
   "metadata": {},
   "source": [
    "$ P(A_1) = P(A_2) = P(A_3) = 1/2 $\n",
    "\n",
    "$ P(A_1, A_2) = P(A_2, A_3) = P(A_1, A_3) = P(A_1)\\cdot P(A_2) = P(A_2) \\cdot P(A_3) = P(A_1) \\cdot P(A_3) = 1/4 $\n",
    "$ Поэтому\\ события\\ A_1,\\ A_2,\\ A_3\\ попарно\\ независимы. $\n",
    "\n",
    "$ P(A_1, A_2, A_3) = 1/4,\\ P(A_1, A_2, A_3) \\neq P(A_1) \\cdot P(A_2) \\cdot P(A_3) ,\\\\\n",
    "следовательно\\  события\\  A_1,\\ A_2,\\ A_3\\ не\\ являются\\ независимыми\\ в\\ совокупности.$\n"
   ]
  },
  {
   "cell_type": "markdown",
   "metadata": {},
   "source": [
    "#### Задание 4 (формула полной вероятности)\n",
    "В магазин привезли устройства с 3-х разных предприятий. Соотношение устройств следующее: 20% - продукция первого предприятия, 30% - продукция второго предприятия, 50% - продукция третьего предприятия; далее, 10% продукции первого предприятия высшего сорта, на втором предприятии - 5% и на третьем - 20% продукции высшего сорта. Найти вероятность того, что случайно купленная новая продукция окажется высшего сорта."
   ]
  },
  {
   "cell_type": "markdown",
   "metadata": {},
   "source": [
    "$ P_{\\Uparrow\\ сорт} = 0.2\\cdot0.1 + 0.3\\cdot0.05 + 0.5\\cdot0.2 = 0.02 + 0.015 + 0.1 = 0.135 $"
   ]
  },
  {
   "cell_type": "markdown",
   "metadata": {},
   "source": [
    "Проверка методом Монте-Карло"
   ]
  },
  {
   "cell_type": "code",
   "execution_count": 24,
   "metadata": {},
   "outputs": [
    {
     "name": "stdout",
     "output_type": "stream",
     "text": [
      "0.1350236\n"
     ]
    }
   ],
   "source": [
    "a = (1, 1, 2, 2, 2, 3, 3, 3, 3, 3)\n",
    "b = [0]*10; b[0] = 1\n",
    "c = [0]*20; c[0] = 1\n",
    "d = [0]*5; d[0] = 1\n",
    "\n",
    "high_quality = 0\n",
    "for i in range(1_000_000_0):\n",
    "    factory = choice(a)\n",
    "    if factory == 1:\n",
    "        high_quality += choice(b)\n",
    "    elif factory == 2:\n",
    "        high_quality += choice(c)\n",
    "    else:\n",
    "        high_quality += choice(d)\n",
    "print(high_quality/1_000_000_0)"
   ]
  }
 ],
 "metadata": {
  "kernelspec": {
   "display_name": "Python 3",
   "language": "python",
   "name": "python3"
  },
  "language_info": {
   "codemirror_mode": {
    "name": "ipython",
    "version": 3
   },
   "file_extension": ".py",
   "mimetype": "text/x-python",
   "name": "python",
   "nbconvert_exporter": "python",
   "pygments_lexer": "ipython3",
   "version": "3.8.5"
  }
 },
 "nbformat": 4,
 "nbformat_minor": 4
}
