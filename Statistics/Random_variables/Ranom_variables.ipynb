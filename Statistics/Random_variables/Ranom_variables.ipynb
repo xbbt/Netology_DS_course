{
 "cells": [
  {
   "cell_type": "markdown",
   "metadata": {},
   "source": [
    "## Домашнее задание к лекции «Случайные события. Случайные величины»"
   ]
  },
  {
   "cell_type": "markdown",
   "metadata": {},
   "source": [
    "Смоделировать игру против лотерейного автомата типа “777”. Игрок платит 1 руб., после чего выпадает случайное целое число, равномерно распределенное от 0 до 999. При некоторых значениях числа игрок получает выигрыш (см. справа)\n",
    "\n",
    "Выгодна ли игра игроку?\n",
    "\n",
    "Сколько в среднем приобретает\n",
    "или теряет игрок за одну игру?\n",
    "\n",
    "777: 200 руб.\n",
    "999: 100 руб.\n",
    "555: 50 руб.\n",
    "333: 15 руб.\n",
    "111: 10 руб.\n",
    "*77: 5 руб.\n",
    "**7: 3 руб.\n",
    "*00: 2 руб.\n",
    "**0: 1 руб.\n",
    "\n",
    "    – любая цифра\n",
    "\n",
    "Дополнительное задание повышенной сложности. Теоретически рассчитать средний выигрыш (проигрыш) и сравнить с результатами моделирования"
   ]
  },
  {
   "cell_type": "code",
   "execution_count": 7,
   "metadata": {},
   "outputs": [
    {
     "name": "stdout",
     "output_type": "stream",
     "text": [
      "-0.20055402200554023\n"
     ]
    }
   ],
   "source": [
    "from random import random\n",
    "\n",
    "sum = 0\n",
    "for i in range(1_000_000_00):\n",
    "    sum -= 1\n",
    "    res = int(random()*1000)\n",
    "    if res == 777:\n",
    "     sum += 200\n",
    "    elif res == 999:\n",
    "     sum += 100\n",
    "    elif res == 555:\n",
    "     sum += 50\n",
    "    elif res == 333:\n",
    "     sum += 15\n",
    "    elif res == 111:\n",
    "     sum += 10\n",
    "    elif res % 100 == 77:\n",
    "     sum += 5\n",
    "    elif res % 10 == 7:\n",
    "     sum += 3\n",
    "    elif res % 100 == 0:\n",
    "     sum += 2\n",
    "    elif res % 10 == 0:\n",
    "     sum += 1\n",
    "print(sum/i)"
   ]
  },
  {
   "cell_type": "markdown",
   "metadata": {},
   "source": [
    "Игра не выгодна. Игрок в середнем теряет за одну игру 20 копеек."
   ]
  },
  {
   "cell_type": "code",
   "execution_count": 4,
   "metadata": {},
   "outputs": [
    {
     "name": "stdout",
     "output_type": "stream",
     "text": [
      "-0.202\n"
     ]
    }
   ],
   "source": [
    "# Theoretical calculation\n",
    "print(\n",
    "    -1 + 0.001*(200+100+50+15+10)\n",
    "    + (0.01-0.001) * (5+2)\n",
    "    + (0.1-0.01) * (3+1)\n",
    "    )"
   ]
  }
 ],
 "metadata": {
  "kernelspec": {
   "display_name": "Python 3",
   "language": "python",
   "name": "python3"
  },
  "language_info": {
   "codemirror_mode": {
    "name": "ipython",
    "version": 3
   },
   "file_extension": ".py",
   "mimetype": "text/x-python",
   "name": "python",
   "nbconvert_exporter": "python",
   "pygments_lexer": "ipython3",
   "version": "3.8.5"
  }
 },
 "nbformat": 4,
 "nbformat_minor": 4
}
