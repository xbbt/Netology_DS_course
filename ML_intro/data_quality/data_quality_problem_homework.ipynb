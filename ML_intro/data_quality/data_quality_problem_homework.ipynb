{
 "cells": [
  {
   "cell_type": "code",
   "execution_count": 1,
   "metadata": {},
   "outputs": [],
   "source": [
    "import pandas as pd\n",
    "import numpy as np\n",
    "import matplotlib.pyplot as plt\n",
    "\n",
    "parameters = {\n",
    "    'axes.labelsize':  14,\n",
    "    'figure.titlesize': 16,\n",
    "    'xtick.labelsize': 12,\n",
    "    'ytick.labelsize': 12,\n",
    "    'axes.titlesize': 16,\n",
    "    'legend.fontsize': 12,\n",
    "    'legend.title_fontsize': 14\n",
    "}\n",
    "plt.rcParams.update(parameters)\n",
    "\n",
    "from sklearn.metrics import mean_absolute_error\n",
    "\n",
    "from sklearn.linear_model import LinearRegression, Lasso, Ridge\n",
    "from sklearn.preprocessing import PolynomialFeatures"
   ]
  },
  {
   "cell_type": "markdown",
   "metadata": {},
   "source": [
    "Попробуйте создать искусственный датасет с лишними столбцами. Целевую метку, при правильной обработке данных, сформировать таким образом, чтобы без затруднений её смогла описать линейная модель. Данное задание не имеет какого-то “правильного” решения. Тем не менее, стоит представить те ситуации, которые могли бы быть в реальных данных."
   ]
  },
  {
   "cell_type": "markdown",
   "metadata": {},
   "source": [
    "### Создание семпла"
   ]
  },
  {
   "cell_type": "markdown",
   "metadata": {},
   "source": [
    "Сделаем искусственный семпл описывающий размер заработной платы в зависимости от количества лет работы сотрудника, его уровня IQ пола, возраста."
   ]
  },
  {
   "cell_type": "code",
   "execution_count": 2,
   "metadata": {},
   "outputs": [],
   "source": [
    "# Создаём сэмпл\n",
    "n_samples = 1000\n",
    "\n",
    "# опыт работы в годах\n",
    "experience_years = np.random.choice(15, n_samples)\n",
    "# возраст начала работы\n",
    "work_start_age = np.random.choice(30, n_samples) + 18\n",
    "# возраст сотрудника\n",
    "age = work_start_age + experience_years\n",
    "# уровень IQ\n",
    "IQ = np.random.choice(80, n_samples) + 70\n",
    "# пол\n",
    "sex = np.random.choice(1, n_samples)\n",
    "# вес\n",
    "hight = np.random.choice(70, n_samples) + 50"
   ]
  },
  {
   "cell_type": "markdown",
   "metadata": {},
   "source": [
    "Искусственно сгенерируем велчину зарплаты. Она зависит от опыта и быстро растёт в первые годы рабты, замедляя свой рост в последующие. Эту закономерность отразим, взяв квадратный корень от опыта работы в годах. Также зарплата выше у сотрудников с более высоким IQ. От пола и роста у нас зарплата не зависит."
   ]
  },
  {
   "cell_type": "code",
   "execution_count": 3,
   "metadata": {},
   "outputs": [
    {
     "data": {
      "text/html": [
       "<div>\n",
       "<style scoped>\n",
       "    .dataframe tbody tr th:only-of-type {\n",
       "        vertical-align: middle;\n",
       "    }\n",
       "\n",
       "    .dataframe tbody tr th {\n",
       "        vertical-align: top;\n",
       "    }\n",
       "\n",
       "    .dataframe thead th {\n",
       "        text-align: right;\n",
       "    }\n",
       "</style>\n",
       "<table border=\"1\" class=\"dataframe\">\n",
       "  <thead>\n",
       "    <tr style=\"text-align: right;\">\n",
       "      <th></th>\n",
       "      <th>experience</th>\n",
       "      <th>age</th>\n",
       "      <th>IQ</th>\n",
       "      <th>sex</th>\n",
       "      <th>hight</th>\n",
       "      <th>salary</th>\n",
       "    </tr>\n",
       "  </thead>\n",
       "  <tbody>\n",
       "    <tr>\n",
       "      <th>0</th>\n",
       "      <td>5</td>\n",
       "      <td>29</td>\n",
       "      <td>95</td>\n",
       "      <td>0</td>\n",
       "      <td>80</td>\n",
       "      <td>68059.016994</td>\n",
       "    </tr>\n",
       "    <tr>\n",
       "      <th>1</th>\n",
       "      <td>9</td>\n",
       "      <td>40</td>\n",
       "      <td>104</td>\n",
       "      <td>0</td>\n",
       "      <td>101</td>\n",
       "      <td>72750.000000</td>\n",
       "    </tr>\n",
       "    <tr>\n",
       "      <th>2</th>\n",
       "      <td>8</td>\n",
       "      <td>42</td>\n",
       "      <td>98</td>\n",
       "      <td>0</td>\n",
       "      <td>89</td>\n",
       "      <td>69707.106781</td>\n",
       "    </tr>\n",
       "    <tr>\n",
       "      <th>3</th>\n",
       "      <td>4</td>\n",
       "      <td>29</td>\n",
       "      <td>94</td>\n",
       "      <td>0</td>\n",
       "      <td>54</td>\n",
       "      <td>67500.000000</td>\n",
       "    </tr>\n",
       "    <tr>\n",
       "      <th>4</th>\n",
       "      <td>5</td>\n",
       "      <td>25</td>\n",
       "      <td>79</td>\n",
       "      <td>0</td>\n",
       "      <td>106</td>\n",
       "      <td>60059.016994</td>\n",
       "    </tr>\n",
       "  </tbody>\n",
       "</table>\n",
       "</div>"
      ],
      "text/plain": [
       "   experience  age   IQ  sex  hight        salary\n",
       "0           5   29   95    0     80  68059.016994\n",
       "1           9   40  104    0    101  72750.000000\n",
       "2           8   42   98    0     89  69707.106781\n",
       "3           4   29   94    0     54  67500.000000\n",
       "4           5   25   79    0    106  60059.016994"
      ]
     },
     "execution_count": 3,
     "metadata": {},
     "output_type": "execute_result"
    }
   ],
   "source": [
    "salary = 250*np.sqrt(experience_years) + IQ*500 + 20_000\n",
    "\n",
    "data = pd.DataFrame({\n",
    "    'experience': experience_years,\n",
    "    'age': age,\n",
    "    'IQ': IQ,\n",
    "    'sex': sex,\n",
    "    'hight': hight,\n",
    "    'salary': salary\n",
    "})\n",
    "data.head(5)"
   ]
  },
  {
   "cell_type": "code",
   "execution_count": 4,
   "metadata": {},
   "outputs": [
    {
     "data": {
      "text/html": [
       "<div>\n",
       "<style scoped>\n",
       "    .dataframe tbody tr th:only-of-type {\n",
       "        vertical-align: middle;\n",
       "    }\n",
       "\n",
       "    .dataframe tbody tr th {\n",
       "        vertical-align: top;\n",
       "    }\n",
       "\n",
       "    .dataframe thead th {\n",
       "        text-align: right;\n",
       "    }\n",
       "</style>\n",
       "<table border=\"1\" class=\"dataframe\">\n",
       "  <thead>\n",
       "    <tr style=\"text-align: right;\">\n",
       "      <th></th>\n",
       "      <th>experience</th>\n",
       "      <th>age</th>\n",
       "      <th>IQ</th>\n",
       "      <th>sex</th>\n",
       "      <th>hight</th>\n",
       "      <th>salary</th>\n",
       "    </tr>\n",
       "  </thead>\n",
       "  <tbody>\n",
       "    <tr>\n",
       "      <th>count</th>\n",
       "      <td>1000.000000</td>\n",
       "      <td>1000.000000</td>\n",
       "      <td>1000.000000</td>\n",
       "      <td>1000.0</td>\n",
       "      <td>1000.000000</td>\n",
       "      <td>1000.000000</td>\n",
       "    </tr>\n",
       "    <tr>\n",
       "      <th>mean</th>\n",
       "      <td>7.045000</td>\n",
       "      <td>39.241000</td>\n",
       "      <td>110.233000</td>\n",
       "      <td>0.0</td>\n",
       "      <td>86.056000</td>\n",
       "      <td>75726.951890</td>\n",
       "    </tr>\n",
       "    <tr>\n",
       "      <th>std</th>\n",
       "      <td>4.337256</td>\n",
       "      <td>9.770075</td>\n",
       "      <td>23.386655</td>\n",
       "      <td>0.0</td>\n",
       "      <td>20.178256</td>\n",
       "      <td>11676.453384</td>\n",
       "    </tr>\n",
       "    <tr>\n",
       "      <th>min</th>\n",
       "      <td>0.000000</td>\n",
       "      <td>18.000000</td>\n",
       "      <td>70.000000</td>\n",
       "      <td>0.0</td>\n",
       "      <td>50.000000</td>\n",
       "      <td>55000.000000</td>\n",
       "    </tr>\n",
       "    <tr>\n",
       "      <th>25%</th>\n",
       "      <td>3.000000</td>\n",
       "      <td>32.000000</td>\n",
       "      <td>89.000000</td>\n",
       "      <td>0.0</td>\n",
       "      <td>70.000000</td>\n",
       "      <td>64935.414347</td>\n",
       "    </tr>\n",
       "    <tr>\n",
       "      <th>50%</th>\n",
       "      <td>7.000000</td>\n",
       "      <td>39.000000</td>\n",
       "      <td>110.000000</td>\n",
       "      <td>0.0</td>\n",
       "      <td>87.000000</td>\n",
       "      <td>75770.284708</td>\n",
       "    </tr>\n",
       "    <tr>\n",
       "      <th>75%</th>\n",
       "      <td>11.000000</td>\n",
       "      <td>47.000000</td>\n",
       "      <td>131.000000</td>\n",
       "      <td>0.0</td>\n",
       "      <td>104.000000</td>\n",
       "      <td>86260.142354</td>\n",
       "    </tr>\n",
       "    <tr>\n",
       "      <th>max</th>\n",
       "      <td>14.000000</td>\n",
       "      <td>61.000000</td>\n",
       "      <td>149.000000</td>\n",
       "      <td>0.0</td>\n",
       "      <td>119.000000</td>\n",
       "      <td>95435.414347</td>\n",
       "    </tr>\n",
       "  </tbody>\n",
       "</table>\n",
       "</div>"
      ],
      "text/plain": [
       "        experience          age           IQ     sex        hight  \\\n",
       "count  1000.000000  1000.000000  1000.000000  1000.0  1000.000000   \n",
       "mean      7.045000    39.241000   110.233000     0.0    86.056000   \n",
       "std       4.337256     9.770075    23.386655     0.0    20.178256   \n",
       "min       0.000000    18.000000    70.000000     0.0    50.000000   \n",
       "25%       3.000000    32.000000    89.000000     0.0    70.000000   \n",
       "50%       7.000000    39.000000   110.000000     0.0    87.000000   \n",
       "75%      11.000000    47.000000   131.000000     0.0   104.000000   \n",
       "max      14.000000    61.000000   149.000000     0.0   119.000000   \n",
       "\n",
       "             salary  \n",
       "count   1000.000000  \n",
       "mean   75726.951890  \n",
       "std    11676.453384  \n",
       "min    55000.000000  \n",
       "25%    64935.414347  \n",
       "50%    75770.284708  \n",
       "75%    86260.142354  \n",
       "max    95435.414347  "
      ]
     },
     "execution_count": 4,
     "metadata": {},
     "output_type": "execute_result"
    }
   ],
   "source": [
    "data.describe()"
   ]
  },
  {
   "cell_type": "markdown",
   "metadata": {},
   "source": [
    "Построим линейную модель на основе всех данных"
   ]
  },
  {
   "cell_type": "code",
   "execution_count": 5,
   "metadata": {},
   "outputs": [
    {
     "name": "stdout",
     "output_type": "stream",
     "text": [
      "Weights: [ 5.76573013e+01 -1.40458610e-02  4.99922567e+02  0.00000000e+00\n",
      " -8.75904934e-03]\n",
      "Bias: 1.4551915228366852e-11\n",
      "Error: 53.80878356552398\n"
     ]
    }
   ],
   "source": [
    "X = data[['experience', 'age', 'IQ', 'sex', 'hight']]\n",
    "y = data['salary']\n",
    "reg = LinearRegression().fit(X, y)\n",
    "print('Weights: {}'.format(reg.coef_))\n",
    "\n",
    "pred_values = reg.predict(X)\n",
    "print('Bias: {}'.format(pred_values.mean() - y.mean()))\n",
    "\n",
    "print('Error: {}'.format(mean_absolute_error(pred_values, y)))"
   ]
  },
  {
   "cell_type": "markdown",
   "metadata": {},
   "source": [
    "Модель смогла понять, что ни возраст, ни пол, ни рост не имеют определяющего значения и приписала им очень малые веса."
   ]
  },
  {
   "cell_type": "code",
   "execution_count": 6,
   "metadata": {},
   "outputs": [
    {
     "name": "stdout",
     "output_type": "stream",
     "text": [
      "Weights: [ 57.64355325 499.92302743]\n",
      "Bias: 0.0\n",
      "Error: 53.81929072456729\n"
     ]
    }
   ],
   "source": [
    "X = data[['experience', 'IQ']]\n",
    "y = data['salary']\n",
    "reg = LinearRegression().fit(X, y)\n",
    "print('Weights: {}'.format(reg.coef_))\n",
    "\n",
    "pred_values = reg.predict(X)\n",
    "print('Bias: {}'.format(pred_values.mean() - y.mean()))\n",
    "\n",
    "print('Error: {}'.format(mean_absolute_error(pred_values, y)))"
   ]
  },
  {
   "cell_type": "markdown",
   "metadata": {},
   "source": [
    "Если построить модель без лишних переменных, то ошибка окажется практически такой же, как и с ними."
   ]
  },
  {
   "cell_type": "code",
   "execution_count": 7,
   "metadata": {},
   "outputs": [],
   "source": [
    "poly = PolynomialFeatures(3)"
   ]
  },
  {
   "cell_type": "code",
   "execution_count": 8,
   "metadata": {},
   "outputs": [
    {
     "name": "stdout",
     "output_type": "stream",
     "text": [
      "Weights: [ 1.27762499e-08  1.64139087e+02  6.40489766e-01  4.99791743e+02\n",
      "  1.47093342e-09 -5.06181783e+00 -1.37385675e+01 -1.02454141e-01\n",
      "  1.93990169e-01  9.12135437e-11 -2.33550927e-01 -2.22246430e-02\n",
      " -1.41546306e-02  1.30700284e-10  2.47169219e-02 -5.33660900e-03\n",
      "  1.01695430e-10 -3.37926513e-04 -6.18238793e-12 -1.65467640e-11\n",
      "  6.59533256e-02  4.80991396e-01  7.51738402e-03 -3.92076714e-03\n",
      "  4.13180601e-12  2.43653727e-03 -8.46139405e-04 -9.46680785e-04\n",
      " -1.49213975e-13  1.50445817e-03 -3.56226863e-04 -5.68434189e-14\n",
      " -2.83011357e-04 -5.68434189e-14  2.84217094e-14  9.99739974e-04\n",
      "  2.15466707e-04  1.65913145e-04  0.00000000e+00 -1.20299059e-04\n",
      "  1.30184937e-04  0.00000000e+00 -1.68408424e-04  0.00000000e+00\n",
      "  0.00000000e+00 -6.66642893e-05 -4.36273712e-06  0.00000000e+00\n",
      "  7.50328944e-05  0.00000000e+00  0.00000000e+00 -3.14913138e-05\n",
      "  0.00000000e+00  0.00000000e+00  0.00000000e+00 -2.65541915e-04]\n",
      "Bias: -1.4551915228366852e-11\n",
      "Error: 17.493057261100816\n"
     ]
    }
   ],
   "source": [
    "X = data[['experience', 'age', 'IQ', 'sex', 'hight']]\n",
    "X = poly.fit_transform(X)\n",
    "\n",
    "y = data['salary']\n",
    "reg = LinearRegression().fit(X, y)\n",
    "print('Weights: {}'.format(reg.coef_))\n",
    "\n",
    "pred_values = reg.predict(X)\n",
    "print('Bias: {}'.format(pred_values.mean() - y.mean()))\n",
    "\n",
    "print('Error: {}'.format(mean_absolute_error(pred_values, y)))"
   ]
  },
  {
   "cell_type": "markdown",
   "metadata": {},
   "source": [
    "Использование полиномиальных фич позволяет значительно снизить ошибку модели не внося заметного отклонения. Это происходит потому, что сумма степеней от опыта начинают аппроксимировать квадратный корень из опыта."
   ]
  },
  {
   "cell_type": "code",
   "execution_count": 9,
   "metadata": {},
   "outputs": [],
   "source": [
    "poly = PolynomialFeatures(3)"
   ]
  },
  {
   "cell_type": "code",
   "execution_count": 10,
   "metadata": {},
   "outputs": [
    {
     "name": "stdout",
     "output_type": "stream",
     "text": [
      "Weights: [250. 500.]\n",
      "Bias: 0.0\n",
      "Error: 9.029463399201632e-12\n"
     ]
    },
    {
     "name": "stderr",
     "output_type": "stream",
     "text": [
      "<ipython-input-10-32abf1299554>:2: SettingWithCopyWarning: \n",
      "A value is trying to be set on a copy of a slice from a DataFrame.\n",
      "Try using .loc[row_indexer,col_indexer] = value instead\n",
      "\n",
      "See the caveats in the documentation: https://pandas.pydata.org/pandas-docs/stable/user_guide/indexing.html#returning-a-view-versus-a-copy\n",
      "  X['experience'] = np.sqrt(X['experience'])\n"
     ]
    }
   ],
   "source": [
    "X = data[['experience', 'IQ']]\n",
    "X['experience'] = np.sqrt(X['experience'])\n",
    "\n",
    "y = data['salary']\n",
    "reg = LinearRegression().fit(X, y)\n",
    "print('Weights: {}'.format(reg.coef_))\n",
    "\n",
    "pred_values = reg.predict(X)\n",
    "print('Bias: {}'.format(pred_values.mean() - y.mean()))\n",
    "\n",
    "print('Error: {}'.format(mean_absolute_error(pred_values, y)))"
   ]
  },
  {
   "cell_type": "markdown",
   "metadata": {},
   "source": [
    "Замена опыта на квадратный корень из него позволяет уменьшить ошибку почти до нуля."
   ]
  }
 ],
 "metadata": {
  "kernelspec": {
   "display_name": "Python 3",
   "language": "python",
   "name": "python3"
  },
  "language_info": {
   "codemirror_mode": {
    "name": "ipython",
    "version": 3
   },
   "file_extension": ".py",
   "mimetype": "text/x-python",
   "name": "python",
   "nbconvert_exporter": "python",
   "pygments_lexer": "ipython3",
   "version": "3.9.2"
  }
 },
 "nbformat": 4,
 "nbformat_minor": 4
}
