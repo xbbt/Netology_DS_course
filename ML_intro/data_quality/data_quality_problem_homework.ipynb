{
 "cells": [
  {
   "cell_type": "code",
   "execution_count": 1,
   "metadata": {},
   "outputs": [],
   "source": [
    "import pandas as pd\n",
    "import numpy as np\n",
    "import matplotlib.pyplot as plt\n",
    "\n",
    "parameters = {\n",
    "    'axes.labelsize':  14,\n",
    "    'figure.titlesize': 16,\n",
    "    'xtick.labelsize': 12,\n",
    "    'ytick.labelsize': 12,\n",
    "    'axes.titlesize': 16,\n",
    "    'legend.fontsize': 12,\n",
    "    'legend.title_fontsize': 14\n",
    "}\n",
    "plt.rcParams.update(parameters)\n",
    "\n",
    "from sklearn.metrics import mean_absolute_error\n",
    "\n",
    "from sklearn.linear_model import LinearRegression, Lasso, Ridge\n",
    "from sklearn.preprocessing import PolynomialFeatures"
   ]
  },
  {
   "cell_type": "markdown",
   "metadata": {},
   "source": [
    "Попробуйте создать искусственный датасет с лишними столбцами. Целевую метку, при правильной обработке данных, сформировать таким образом, чтобы без затруднений её смогла описать линейная модель. Данное задание не имеет какого-то “правильного” решения. Тем не менее, стоит представить те ситуации, которые могли бы быть в реальных данных."
   ]
  },
  {
   "cell_type": "markdown",
   "metadata": {},
   "source": [
    "### Создание семпла"
   ]
  },
  {
   "cell_type": "markdown",
   "metadata": {},
   "source": [
    "Сделаем искусственный семпл описывающий размер заработной платы в зависимости от количества лет работы сотрудника, его уровня IQ пола, возраста."
   ]
  },
  {
   "cell_type": "code",
   "execution_count": 9,
   "metadata": {},
   "outputs": [],
   "source": [
    "# Создаём сэмпл\n",
    "n_samples = 1000\n",
    "\n",
    "# опыт работы в годах\n",
    "experience_years = np.random.choice(20, n_samples)\n",
    "# возраст сотрудника\n",
    "age = np.random.choice(40, n_samples) + 18\n",
    "# уровень IQ\n",
    "IQ = np.random.choice(80, n_samples) + 70\n",
    "# пол\n",
    "sex = np.random.choice(1, n_samples)\n",
    "# вес\n",
    "hight = np.random.choice(70, n_samples) + 50"
   ]
  },
  {
   "cell_type": "markdown",
   "metadata": {},
   "source": [
    "Искусственно сгенерируем велчину зарплаты. Она зависит от опыта и быстро растёт в первые годы рабты, замедляя свой рост в последующие. Эту закономерность отразим, взяв квадратный корень от опыта работы в годах. Также зарплата выше у сотрудников с более высоким IQ. От пола и роста у нас зарплата не зависит."
   ]
  },
  {
   "cell_type": "code",
   "execution_count": 10,
   "metadata": {},
   "outputs": [
    {
     "data": {
      "text/html": [
       "<div>\n",
       "<style scoped>\n",
       "    .dataframe tbody tr th:only-of-type {\n",
       "        vertical-align: middle;\n",
       "    }\n",
       "\n",
       "    .dataframe tbody tr th {\n",
       "        vertical-align: top;\n",
       "    }\n",
       "\n",
       "    .dataframe thead th {\n",
       "        text-align: right;\n",
       "    }\n",
       "</style>\n",
       "<table border=\"1\" class=\"dataframe\">\n",
       "  <thead>\n",
       "    <tr style=\"text-align: right;\">\n",
       "      <th></th>\n",
       "      <th>experience</th>\n",
       "      <th>age</th>\n",
       "      <th>IQ</th>\n",
       "      <th>sex</th>\n",
       "      <th>hight</th>\n",
       "      <th>salary</th>\n",
       "    </tr>\n",
       "  </thead>\n",
       "  <tbody>\n",
       "    <tr>\n",
       "      <th>0</th>\n",
       "      <td>18</td>\n",
       "      <td>20</td>\n",
       "      <td>105</td>\n",
       "      <td>0</td>\n",
       "      <td>80</td>\n",
       "      <td>73560.660172</td>\n",
       "    </tr>\n",
       "    <tr>\n",
       "      <th>1</th>\n",
       "      <td>18</td>\n",
       "      <td>51</td>\n",
       "      <td>115</td>\n",
       "      <td>0</td>\n",
       "      <td>98</td>\n",
       "      <td>78560.660172</td>\n",
       "    </tr>\n",
       "    <tr>\n",
       "      <th>2</th>\n",
       "      <td>10</td>\n",
       "      <td>41</td>\n",
       "      <td>109</td>\n",
       "      <td>0</td>\n",
       "      <td>74</td>\n",
       "      <td>75290.569415</td>\n",
       "    </tr>\n",
       "    <tr>\n",
       "      <th>3</th>\n",
       "      <td>6</td>\n",
       "      <td>51</td>\n",
       "      <td>95</td>\n",
       "      <td>0</td>\n",
       "      <td>114</td>\n",
       "      <td>68112.372436</td>\n",
       "    </tr>\n",
       "    <tr>\n",
       "      <th>4</th>\n",
       "      <td>11</td>\n",
       "      <td>38</td>\n",
       "      <td>111</td>\n",
       "      <td>0</td>\n",
       "      <td>104</td>\n",
       "      <td>76329.156198</td>\n",
       "    </tr>\n",
       "  </tbody>\n",
       "</table>\n",
       "</div>"
      ],
      "text/plain": [
       "   experience  age   IQ  sex  hight        salary\n",
       "0          18   20  105    0     80  73560.660172\n",
       "1          18   51  115    0     98  78560.660172\n",
       "2          10   41  109    0     74  75290.569415\n",
       "3           6   51   95    0    114  68112.372436\n",
       "4          11   38  111    0    104  76329.156198"
      ]
     },
     "execution_count": 10,
     "metadata": {},
     "output_type": "execute_result"
    }
   ],
   "source": [
    "salary = 250*np.sqrt(experience_years) + IQ*500 + 20_000\n",
    "\n",
    "data = pd.DataFrame({\n",
    "    'experience': experience_years,\n",
    "    'age': age,\n",
    "    'IQ': IQ,\n",
    "    'sex': sex,\n",
    "    'hight': hight,\n",
    "    'salary': salary\n",
    "})\n",
    "data.head(5)"
   ]
  },
  {
   "cell_type": "code",
   "execution_count": 4,
   "metadata": {},
   "outputs": [
    {
     "data": {
      "text/html": [
       "<div>\n",
       "<style scoped>\n",
       "    .dataframe tbody tr th:only-of-type {\n",
       "        vertical-align: middle;\n",
       "    }\n",
       "\n",
       "    .dataframe tbody tr th {\n",
       "        vertical-align: top;\n",
       "    }\n",
       "\n",
       "    .dataframe thead th {\n",
       "        text-align: right;\n",
       "    }\n",
       "</style>\n",
       "<table border=\"1\" class=\"dataframe\">\n",
       "  <thead>\n",
       "    <tr style=\"text-align: right;\">\n",
       "      <th></th>\n",
       "      <th>experience</th>\n",
       "      <th>age</th>\n",
       "      <th>IQ</th>\n",
       "      <th>sex</th>\n",
       "      <th>hight</th>\n",
       "      <th>salary</th>\n",
       "    </tr>\n",
       "  </thead>\n",
       "  <tbody>\n",
       "    <tr>\n",
       "      <th>count</th>\n",
       "      <td>1000.000000</td>\n",
       "      <td>1000.000000</td>\n",
       "      <td>1000.000000</td>\n",
       "      <td>1000.0</td>\n",
       "      <td>1000.000000</td>\n",
       "      <td>1000.000000</td>\n",
       "    </tr>\n",
       "    <tr>\n",
       "      <th>mean</th>\n",
       "      <td>9.203000</td>\n",
       "      <td>37.618000</td>\n",
       "      <td>109.142000</td>\n",
       "      <td>0.0</td>\n",
       "      <td>84.182000</td>\n",
       "      <td>75266.926712</td>\n",
       "    </tr>\n",
       "    <tr>\n",
       "      <th>std</th>\n",
       "      <td>5.866021</td>\n",
       "      <td>11.572467</td>\n",
       "      <td>23.268805</td>\n",
       "      <td>0.0</td>\n",
       "      <td>20.404245</td>\n",
       "      <td>11629.355893</td>\n",
       "    </tr>\n",
       "    <tr>\n",
       "      <th>min</th>\n",
       "      <td>0.000000</td>\n",
       "      <td>18.000000</td>\n",
       "      <td>70.000000</td>\n",
       "      <td>0.0</td>\n",
       "      <td>50.000000</td>\n",
       "      <td>55000.000000</td>\n",
       "    </tr>\n",
       "    <tr>\n",
       "      <th>25%</th>\n",
       "      <td>4.000000</td>\n",
       "      <td>27.000000</td>\n",
       "      <td>89.000000</td>\n",
       "      <td>0.0</td>\n",
       "      <td>66.000000</td>\n",
       "      <td>65347.454092</td>\n",
       "    </tr>\n",
       "    <tr>\n",
       "      <th>50%</th>\n",
       "      <td>9.000000</td>\n",
       "      <td>37.000000</td>\n",
       "      <td>109.000000</td>\n",
       "      <td>0.0</td>\n",
       "      <td>84.000000</td>\n",
       "      <td>75329.156198</td>\n",
       "    </tr>\n",
       "    <tr>\n",
       "      <th>75%</th>\n",
       "      <td>14.000000</td>\n",
       "      <td>48.000000</td>\n",
       "      <td>129.000000</td>\n",
       "      <td>0.0</td>\n",
       "      <td>102.000000</td>\n",
       "      <td>85433.613113</td>\n",
       "    </tr>\n",
       "    <tr>\n",
       "      <th>max</th>\n",
       "      <td>19.000000</td>\n",
       "      <td>57.000000</td>\n",
       "      <td>149.000000</td>\n",
       "      <td>0.0</td>\n",
       "      <td>119.000000</td>\n",
       "      <td>95589.724736</td>\n",
       "    </tr>\n",
       "  </tbody>\n",
       "</table>\n",
       "</div>"
      ],
      "text/plain": [
       "        experience          age           IQ     sex        hight  \\\n",
       "count  1000.000000  1000.000000  1000.000000  1000.0  1000.000000   \n",
       "mean      9.203000    37.618000   109.142000     0.0    84.182000   \n",
       "std       5.866021    11.572467    23.268805     0.0    20.404245   \n",
       "min       0.000000    18.000000    70.000000     0.0    50.000000   \n",
       "25%       4.000000    27.000000    89.000000     0.0    66.000000   \n",
       "50%       9.000000    37.000000   109.000000     0.0    84.000000   \n",
       "75%      14.000000    48.000000   129.000000     0.0   102.000000   \n",
       "max      19.000000    57.000000   149.000000     0.0   119.000000   \n",
       "\n",
       "             salary  \n",
       "count   1000.000000  \n",
       "mean   75266.926712  \n",
       "std    11629.355893  \n",
       "min    55000.000000  \n",
       "25%    65347.454092  \n",
       "50%    75329.156198  \n",
       "75%    85433.613113  \n",
       "max    95589.724736  "
      ]
     },
     "execution_count": 4,
     "metadata": {},
     "output_type": "execute_result"
    }
   ],
   "source": [
    "data.describe()"
   ]
  },
  {
   "cell_type": "markdown",
   "metadata": {},
   "source": [
    "Построим линейную модель на основе всех данных"
   ]
  },
  {
   "cell_type": "code",
   "execution_count": 5,
   "metadata": {},
   "outputs": [
    {
     "name": "stdout",
     "output_type": "stream",
     "text": [
      "Weights: [4.95247290e+01 1.55384037e-02 4.99890497e+02 0.00000000e+00\n",
      " 1.94534605e-02]\n",
      "Bias: 0.0\n",
      "Error: 60.84576349661296\n"
     ]
    }
   ],
   "source": [
    "X = data[['experience', 'age', 'IQ', 'sex', 'hight']]\n",
    "y = data['salary']\n",
    "reg = LinearRegression().fit(X, y)\n",
    "print('Weights: {}'.format(reg.coef_))\n",
    "\n",
    "pred_values = reg.predict(X)\n",
    "print('Bias: {}'.format(pred_values.mean() - y.mean()))\n",
    "\n",
    "print('Error: {}'.format(mean_absolute_error(pred_values, y)))"
   ]
  },
  {
   "cell_type": "markdown",
   "metadata": {},
   "source": [
    "Модель смогла понять, что ни возраст, ни пол, ни рост не имеют определяющего значения и приписала им очень малые веса."
   ]
  },
  {
   "cell_type": "code",
   "execution_count": 6,
   "metadata": {},
   "outputs": [
    {
     "name": "stdout",
     "output_type": "stream",
     "text": [
      "Weights: [ 49.52405827 499.89257327]\n",
      "Bias: 0.0\n",
      "Error: 60.84114160897688\n"
     ]
    }
   ],
   "source": [
    "X = data[['experience', 'IQ']]\n",
    "y = data['salary']\n",
    "reg = LinearRegression().fit(X, y)\n",
    "print('Weights: {}'.format(reg.coef_))\n",
    "\n",
    "pred_values = reg.predict(X)\n",
    "print('Bias: {}'.format(pred_values.mean() - y.mean()))\n",
    "\n",
    "print('Error: {}'.format(mean_absolute_error(pred_values, y)))"
   ]
  },
  {
   "cell_type": "markdown",
   "metadata": {},
   "source": [
    "Если построить модель без лишних переменных, то ошибка окажется практически такой же, как и с ними."
   ]
  },
  {
   "cell_type": "code",
   "execution_count": 30,
   "metadata": {},
   "outputs": [],
   "source": [
    "poly = PolynomialFeatures(3)"
   ]
  },
  {
   "cell_type": "code",
   "execution_count": 32,
   "metadata": {},
   "outputs": [
    {
     "name": "stdout",
     "output_type": "stream",
     "text": [
      "Weights: [ 8.65390627e-09  1.42265349e+02 -5.77517204e+00  5.00652818e+02\n",
      "  5.71372004e-08  2.89229576e+00 -8.51443434e+00  2.29284881e-01\n",
      " -1.37627449e-01  1.09597245e-08 -3.56236731e-02  1.07241015e-01\n",
      " -8.90610222e-03  6.52750465e-09  3.95105833e-02  1.26548910e-02\n",
      "  2.32470004e-09 -2.32134013e-02 -3.52865751e-10 -5.31506561e-10\n",
      " -2.59195440e-02  2.15949199e-01 -3.33015083e-03  1.06704654e-03\n",
      "  2.03627837e-10  3.10930221e-03 -6.48744965e-04 -7.86801267e-05\n",
      " -1.47952761e-11 -1.08962316e-03  3.15178417e-04 -9.37916411e-13\n",
      "  3.63327690e-04  4.26325641e-14  0.00000000e+00 -2.01917511e-04\n",
      " -1.20110795e-03  3.31483160e-04  0.00000000e+00 -8.64540770e-05\n",
      " -1.15468731e-04  0.00000000e+00  1.08242592e-04  0.00000000e+00\n",
      "  0.00000000e+00 -1.92154490e-04 -3.06298264e-05  0.00000000e+00\n",
      " -2.16073717e-05  0.00000000e+00  0.00000000e+00  1.08210221e-04\n",
      "  0.00000000e+00  0.00000000e+00  0.00000000e+00  9.40125103e-05]\n",
      "Bias: 1.4551915228366852e-11\n",
      "Error: 19.56836433467336\n"
     ]
    }
   ],
   "source": [
    "X = data[['experience', 'age', 'IQ', 'sex', 'hight']]\n",
    "X = poly.fit_transform(X)\n",
    "\n",
    "y = data['salary']\n",
    "reg = LinearRegression().fit(X, y)\n",
    "print('Weights: {}'.format(reg.coef_))\n",
    "\n",
    "pred_values = reg.predict(X)\n",
    "print('Bias: {}'.format(pred_values.mean() - y.mean()))\n",
    "\n",
    "print('Error: {}'.format(mean_absolute_error(pred_values, y)))"
   ]
  },
  {
   "cell_type": "markdown",
   "metadata": {},
   "source": [
    "Использование полиномиальных фич позволяет значительно снизить ошибку модели не внося заметного отклонения. Это происходит потому, что сумма степеней от опыта начинают аппроксимировать квадратный корень из опыта."
   ]
  },
  {
   "cell_type": "code",
   "execution_count": 37,
   "metadata": {},
   "outputs": [],
   "source": [
    "poly = PolynomialFeatures(3)"
   ]
  },
  {
   "cell_type": "code",
   "execution_count": 39,
   "metadata": {},
   "outputs": [
    {
     "name": "stdout",
     "output_type": "stream",
     "text": [
      "Weights: [250. 500.]\n",
      "Bias: 0.0\n",
      "Error: 2.151500666514039e-11\n"
     ]
    },
    {
     "name": "stderr",
     "output_type": "stream",
     "text": [
      "<ipython-input-39-32abf1299554>:2: SettingWithCopyWarning: \n",
      "A value is trying to be set on a copy of a slice from a DataFrame.\n",
      "Try using .loc[row_indexer,col_indexer] = value instead\n",
      "\n",
      "See the caveats in the documentation: https://pandas.pydata.org/pandas-docs/stable/user_guide/indexing.html#returning-a-view-versus-a-copy\n",
      "  X['experience'] = np.sqrt(X['experience'])\n"
     ]
    }
   ],
   "source": [
    "X = data[['experience', 'IQ']]\n",
    "X['experience'] = np.sqrt(X['experience'])\n",
    "\n",
    "y = data['salary']\n",
    "reg = LinearRegression().fit(X, y)\n",
    "print('Weights: {}'.format(reg.coef_))\n",
    "\n",
    "pred_values = reg.predict(X)\n",
    "print('Bias: {}'.format(pred_values.mean() - y.mean()))\n",
    "\n",
    "print('Error: {}'.format(mean_absolute_error(pred_values, y)))"
   ]
  },
  {
   "cell_type": "markdown",
   "metadata": {},
   "source": [
    "Замена опыта на квадратный корень из него позволяет уменьшить ошибку почти до нуля."
   ]
  }
 ],
 "metadata": {
  "kernelspec": {
   "display_name": "Python 3",
   "language": "python",
   "name": "python3"
  },
  "language_info": {
   "codemirror_mode": {
    "name": "ipython",
    "version": 3
   },
   "file_extension": ".py",
   "mimetype": "text/x-python",
   "name": "python",
   "nbconvert_exporter": "python",
   "pygments_lexer": "ipython3",
   "version": "3.9.1"
  }
 },
 "nbformat": 4,
 "nbformat_minor": 4
}
