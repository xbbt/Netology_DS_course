{
 "cells": [
  {
   "cell_type": "code",
   "execution_count": 44,
   "metadata": {},
   "outputs": [],
   "source": [
    "import pandas as pd\n",
    "import numpy as np\n",
    "import matplotlib.pyplot as plt\n",
    "from sklearn.impute import SimpleImputer\n",
    "pd.set_option('display.max_columns', None)"
   ]
  },
  {
   "cell_type": "code",
   "execution_count": 46,
   "metadata": {},
   "outputs": [],
   "source": [
    "df = pd.read_csv(\n",
    "    'https://raw.githubusercontent.com/obulygin/pyda_homeworks/master/statistics_basics/horse_data.csv',\n",
    "    header=None\n",
    ")"
   ]
  },
  {
   "cell_type": "code",
   "execution_count": 47,
   "metadata": {},
   "outputs": [],
   "source": [
    "df.columns = [\n",
    "    'surgery', 'age', 'hospital_id', 'rectal_temperature',\n",
    "    'pulse', 'respiratory_rate', 'exc_temperature',\n",
    "    'peripheral_pulse', 'mucous_membranes', 'capillary refill time',\n",
    "    'pain', 'peristalsis', 'abdominal_distension', 'nasogastric_tube',\n",
    "    'nasogastric_reflux', 'nasogastric_reflux_PH', 'rectal_examination_feces',\n",
    "    'abdomen', 'packed_cell_volume', 'total_protein',\n",
    "    'abdominocentesis_appearance', 'abdomcentesis_total_protein',\n",
    "    'outcome', 'surgical_lesion', 'first_lesion', 'second_lestion',\n",
    "    'third_lesion', 'cp_data'\n",
    "]"
   ]
  },
  {
   "cell_type": "markdown",
   "metadata": {},
   "source": [
    "### 1. Surgery\n",
    "          1 = Yes, it had surgery\n",
    "          2 = It was treated without surgery"
   ]
  },
  {
   "cell_type": "code",
   "execution_count": 6,
   "metadata": {},
   "outputs": [
    {
     "data": {
      "text/plain": [
       "1    180\n",
       "2    119\n",
       "?      1\n",
       "Name: surgery, dtype: int64"
      ]
     },
     "execution_count": 6,
     "metadata": {},
     "output_type": "execute_result"
    }
   ],
   "source": [
    "df['surgery'].value_counts()"
   ]
  },
  {
   "cell_type": "markdown",
   "metadata": {},
   "source": [
    "Пропущено всего одно значение, посмотрим внимательнее на строку с пропущенным значением."
   ]
  },
  {
   "cell_type": "code",
   "execution_count": 7,
   "metadata": {},
   "outputs": [
    {
     "data": {
      "text/html": [
       "<div>\n",
       "<style scoped>\n",
       "    .dataframe tbody tr th:only-of-type {\n",
       "        vertical-align: middle;\n",
       "    }\n",
       "\n",
       "    .dataframe tbody tr th {\n",
       "        vertical-align: top;\n",
       "    }\n",
       "\n",
       "    .dataframe thead th {\n",
       "        text-align: right;\n",
       "    }\n",
       "</style>\n",
       "<table border=\"1\" class=\"dataframe\">\n",
       "  <thead>\n",
       "    <tr style=\"text-align: right;\">\n",
       "      <th></th>\n",
       "      <th>surgery</th>\n",
       "      <th>age</th>\n",
       "      <th>hospital_id</th>\n",
       "      <th>rectal_temperature</th>\n",
       "      <th>pulse</th>\n",
       "      <th>respiratory_rate</th>\n",
       "      <th>exc_temperature</th>\n",
       "      <th>peripheral_pulse</th>\n",
       "      <th>mucous_membranes</th>\n",
       "      <th>capillary refill time</th>\n",
       "      <th>pain</th>\n",
       "      <th>peristalsis</th>\n",
       "      <th>abdominal_distension</th>\n",
       "      <th>nasogastric_tube</th>\n",
       "      <th>nasogastric_reflux</th>\n",
       "      <th>nasogastric_reflux_PH</th>\n",
       "      <th>rectal_examination_feces</th>\n",
       "      <th>abdomen</th>\n",
       "      <th>packed_cell_volume</th>\n",
       "      <th>total_protein</th>\n",
       "      <th>abdominocentesis_appearance</th>\n",
       "      <th>abdomcentesis_total_protein</th>\n",
       "      <th>outcome</th>\n",
       "      <th>surgical_lesion</th>\n",
       "      <th>first_lesion</th>\n",
       "      <th>second_lestion</th>\n",
       "      <th>third_lesion</th>\n",
       "      <th>cp_data</th>\n",
       "    </tr>\n",
       "  </thead>\n",
       "  <tbody>\n",
       "    <tr>\n",
       "      <th>132</th>\n",
       "      <td>?</td>\n",
       "      <td>1</td>\n",
       "      <td>534572</td>\n",
       "      <td>38.0</td>\n",
       "      <td>48</td>\n",
       "      <td>20</td>\n",
       "      <td>3</td>\n",
       "      <td>1</td>\n",
       "      <td>3</td>\n",
       "      <td>1</td>\n",
       "      <td>4</td>\n",
       "      <td>3</td>\n",
       "      <td>1</td>\n",
       "      <td>2</td>\n",
       "      <td>1</td>\n",
       "      <td>?</td>\n",
       "      <td>3</td>\n",
       "      <td>5</td>\n",
       "      <td>43</td>\n",
       "      <td>73</td>\n",
       "      <td>2</td>\n",
       "      <td>1</td>\n",
       "      <td>?</td>\n",
       "      <td>1</td>\n",
       "      <td>3111</td>\n",
       "      <td>0</td>\n",
       "      <td>0</td>\n",
       "      <td>2</td>\n",
       "    </tr>\n",
       "  </tbody>\n",
       "</table>\n",
       "</div>"
      ],
      "text/plain": [
       "    surgery  age  hospital_id rectal_temperature pulse respiratory_rate  \\\n",
       "132       ?    1       534572               38.0    48               20   \n",
       "\n",
       "    exc_temperature peripheral_pulse mucous_membranes capillary refill time  \\\n",
       "132               3                1                3                     1   \n",
       "\n",
       "    pain peristalsis abdominal_distension nasogastric_tube nasogastric_reflux  \\\n",
       "132    4           3                    1                2                  1   \n",
       "\n",
       "    nasogastric_reflux_PH rectal_examination_feces abdomen packed_cell_volume  \\\n",
       "132                     ?                        3       5                 43   \n",
       "\n",
       "    total_protein abdominocentesis_appearance abdomcentesis_total_protein  \\\n",
       "132            73                           2                           1   \n",
       "\n",
       "    outcome  surgical_lesion  first_lesion  second_lestion  third_lesion  \\\n",
       "132       ?                1          3111               0             0   \n",
       "\n",
       "     cp_data  \n",
       "132        2  "
      ]
     },
     "execution_count": 7,
     "metadata": {},
     "output_type": "execute_result"
    }
   ],
   "source": [
    "df[df['surgery'] == '?']"
   ]
  },
  {
   "cell_type": "markdown",
   "metadata": {},
   "source": [
    "В данной строке есть информация о хирургическом вмешательстве, но отсутствуют данные об исходе операции. Это странно."
   ]
  },
  {
   "cell_type": "code",
   "execution_count": 8,
   "metadata": {},
   "outputs": [
    {
     "data": {
      "text/plain": [
       "1    178\n",
       "2     77\n",
       "3     44\n",
       "?      1\n",
       "Name: outcome, dtype: int64"
      ]
     },
     "execution_count": 8,
     "metadata": {},
     "output_type": "execute_result"
    }
   ],
   "source": [
    "df['outcome'].value_counts()"
   ]
  },
  {
   "cell_type": "markdown",
   "metadata": {},
   "source": [
    "Более того, это единственная строка с неясным исходом для лошади. Может она убежала во время операции? Такую строку лучше удалить."
   ]
  },
  {
   "cell_type": "code",
   "execution_count": 9,
   "metadata": {},
   "outputs": [],
   "source": [
    "df = df[df['surgery'] != '?']"
   ]
  },
  {
   "cell_type": "markdown",
   "metadata": {},
   "source": [
    "Базовая статистика по столбцу:"
   ]
  },
  {
   "cell_type": "code",
   "execution_count": 10,
   "metadata": {},
   "outputs": [
    {
     "name": "stdout",
     "output_type": "stream",
     "text": [
      "1    0.602007\n",
      "2    0.397993\n",
      "Name: surgery, dtype: float64\n"
     ]
    },
    {
     "data": {
      "text/plain": [
       "299"
      ]
     },
     "execution_count": 10,
     "metadata": {},
     "output_type": "execute_result"
    }
   ],
   "source": [
    "print(df['surgery'].value_counts(normalize=True))\n",
    "len(df)"
   ]
  },
  {
   "cell_type": "markdown",
   "metadata": {},
   "source": [
    "### 2. Age\n",
    "          1 = Adult horse\n",
    "          2 = Young (< 6 months)\n"
   ]
  },
  {
   "cell_type": "code",
   "execution_count": 11,
   "metadata": {},
   "outputs": [
    {
     "data": {
      "text/plain": [
       "1    275\n",
       "9     24\n",
       "Name: age, dtype: int64"
      ]
     },
     "execution_count": 11,
     "metadata": {},
     "output_type": "execute_result"
    }
   ],
   "source": [
    "df['age'].value_counts()"
   ]
  },
  {
   "cell_type": "markdown",
   "metadata": {},
   "source": [
    "В столбце возраст встречается значение 9, которое не указано в описании столбца. Возможно, это ошибка обозначения возраста молодых лошадей, но также 9 может обозначать утерянные значения.\n",
    "\n",
    "Строки со значением возраста 9 не стоит исключать из дальнейшего анализа. Однако не стоит исползовать данные из этого столбца как порядковые и делать на их основе выводы о молодых лошадях."
   ]
  },
  {
   "cell_type": "markdown",
   "metadata": {},
   "source": [
    "### 3. Hospital Number\n",
    "          - numeric id\n",
    "          - the case number assigned to the horse\n",
    "            (may not be unique if the horse is treated > 1 time)"
   ]
  },
  {
   "cell_type": "code",
   "execution_count": 18,
   "metadata": {},
   "outputs": [
    {
     "data": {
      "text/plain": [
       "count    2.990000e+02\n",
       "mean     1.087733e+06\n",
       "std      1.532032e+06\n",
       "min      5.184760e+05\n",
       "25%      5.289040e+05\n",
       "50%      5.303010e+05\n",
       "75%      5.347360e+05\n",
       "max      5.305629e+06\n",
       "Name: hospital_id, dtype: float64"
      ]
     },
     "execution_count": 18,
     "metadata": {},
     "output_type": "execute_result"
    }
   ],
   "source": [
    "df['hospital_id'].describe()"
   ]
  },
  {
   "cell_type": "code",
   "execution_count": 12,
   "metadata": {},
   "outputs": [
    {
     "name": "stdout",
     "output_type": "stream",
     "text": [
      "Series([], Name: hospital_id, dtype: int64)\n"
     ]
    }
   ],
   "source": [
    "print(df.loc[df['hospital_id'] < 100, 'hospital_id'])"
   ]
  },
  {
   "cell_type": "markdown",
   "metadata": {},
   "source": [
    "В колонке госпитального номера нет пропоусков."
   ]
  },
  {
   "cell_type": "code",
   "execution_count": 13,
   "metadata": {},
   "outputs": [
    {
     "name": "stdout",
     "output_type": "stream",
     "text": [
      "(array([1, 2]), array([267,  16]))\n"
     ]
    }
   ],
   "source": [
    "print(np.unique(df['hospital_id'].value_counts().values, return_counts=True))"
   ]
  },
  {
   "cell_type": "markdown",
   "metadata": {},
   "source": [
    "267 лошадей были в госпитале один раз, 16 -- дважды. Т.е. в датасете есть инормация о 275 лошадях."
   ]
  },
  {
   "cell_type": "code",
   "execution_count": 14,
   "metadata": {},
   "outputs": [
    {
     "data": {
      "text/plain": [
       "2.909090909090909"
      ]
     },
     "execution_count": 14,
     "metadata": {},
     "output_type": "execute_result"
    }
   ],
   "source": [
    "8/275*100"
   ]
  },
  {
   "cell_type": "markdown",
   "metadata": {},
   "source": [
    "3% всех лошадей были в госпитале дважды. При необходимости использования методов, требующих статистическую независимость данных, необходимо исключить данные о повторных госпитолизациях. "
   ]
  },
  {
   "cell_type": "markdown",
   "metadata": {},
   "source": [
    "### 4. rectal temperature\n",
    "          - linear\n",
    "          - in degrees celsius.\n",
    "          - An elevated temp may occur due to infection.\n",
    "          - temperature may be reduced when the animal is in late shock\n",
    "          - normal temp is 37.8\n",
    "          - this parameter will usually change as the problem progresses\n",
    "               eg. may start out normal, then become elevated because of\n",
    "                   the lesion, passing back through the normal range as the\n",
    "                   horse goes into shock"
   ]
  },
  {
   "cell_type": "code",
   "execution_count": 15,
   "metadata": {},
   "outputs": [],
   "source": [
    "df['rectal_temperature'] = (df['rectal_temperature'].\n",
    "    apply(pd.to_numeric, errors='coerce'))"
   ]
  },
  {
   "cell_type": "markdown",
   "metadata": {},
   "source": [
    "Поиск выбросов"
   ]
  },
  {
   "cell_type": "code",
   "execution_count": 16,
   "metadata": {},
   "outputs": [
    {
     "name": "stdout",
     "output_type": "stream",
     "text": [
      "Lower outlier margin: 37.1\n",
      "lowest temperature in dataset: 35.4\n",
      "Number of lower outliers:  11 \n",
      "\n",
      "Higher outlier margin: 39.2\n",
      "highest temperature in dataset: 40.8\n",
      "Number of higher outliers: 18\n"
     ]
    }
   ],
   "source": [
    "q1 = df['rectal_temperature'].quantile(0.25)\n",
    "q3 = df['rectal_temperature'].quantile(0.75)\n",
    "iqr = q3 - q1\n",
    "lower_outlier = q1 - iqr\n",
    "higher_outlier = q3 + iqr\n",
    "\n",
    "print(f\"Lower outlier margin: {lower_outlier:.1f}\")\n",
    "print(\"lowest temperature in dataset:\", df['rectal_temperature'].min())\n",
    "print('Number of lower outliers: ', sum(df['rectal_temperature'] < lower_outlier), '\\n')\n",
    "\n",
    "print(f\"Higher outlier margin: {higher_outlier:.1f}\")\n",
    "print(\"highest temperature in dataset:\", df['rectal_temperature'].max())\n",
    "print('Number of higher outliers:', sum(df['rectal_temperature'] > higher_outlier))"
   ]
  },
  {
   "cell_type": "markdown",
   "metadata": {},
   "source": [
    "Самая низкая температура из датасета выше нижней физиологической нормы для лошадей. Самая высокая тоже совместима с жизнью. Большое количество выбросов надйенное при рассчётах говорит о том, что в датасете много данных о лошадях с нормальной температурой тела.\n",
    "https://horsefacts.net/horses-body-temperature/"
   ]
  },
  {
   "cell_type": "code",
   "execution_count": 17,
   "metadata": {},
   "outputs": [
    {
     "name": "stdout",
     "output_type": "stream",
     "text": [
      "count    239.000000\n",
      "mean      38.168619\n",
      "std        0.733744\n",
      "min       35.400000\n",
      "25%       37.800000\n",
      "50%       38.200000\n",
      "75%       38.500000\n",
      "max       40.800000\n",
      "Name: rectal_temperature, dtype: float64 \n",
      "\n",
      "Missed values  60\n",
      "Percent of missed values  20.1 %\n"
     ]
    }
   ],
   "source": [
    "print(df['rectal_temperature'].describe(), '\\n')\n",
    "all_rt = len(df)\n",
    "missed_rt = df['rectal_temperature'].isnull().sum()\n",
    "print('Missed values ', missed_rt)\n",
    "\n",
    "print('Percent of missed values ', round(missed_rt/all_rt*100, 1), '%')"
   ]
  },
  {
   "cell_type": "code",
   "execution_count": null,
   "metadata": {},
   "outputs": [],
   "source": [
    "plt.hist(df['rectal_temperature'])"
   ]
  },
  {
   "cell_type": "markdown",
   "metadata": {},
   "source": [
    "20% данных о ректальной температуре утеряно. Это слишком высокий процент, чтобы мы могли откинуть строки с пропусками. Пропущенные значения можно попробовать заменить средним арифметических существующих значений, которое близко к физиологической норме для лошадей. Для улучшения импутации можно попробовать усреднять данные внутри возрастных групп, поскольку известно, что у жеребят температура тела несколько выше, чем у взрослых лошадей."
   ]
  },
  {
   "cell_type": "code",
   "execution_count": null,
   "metadata": {},
   "outputs": [],
   "source": [
    "(df['rectal_temperature'].\n",
    "    fillna(df.groupby(['age'])['rectal_temperature'].\n",
    "    transform('mean'), inplace=True)\n",
    ")\n",
    "df['rectal_temperature'].describe()"
   ]
  },
  {
   "cell_type": "markdown",
   "metadata": {},
   "source": [
    "### 5. pulse\n",
    "          - linear\n",
    "          - the heart rate in beats per minute\n",
    "          - is a reflection of the heart condition: 30 -40 is normal for adults\n",
    "          - rare to have a lower than normal rate although athletic horses\n",
    "            may have a rate of 20-25\n",
    "          - animals with painful lesions or suffering from circulatory shock\n",
    "            may have an elevated heart rate"
   ]
  },
  {
   "cell_type": "code",
   "execution_count": null,
   "metadata": {},
   "outputs": [],
   "source": [
    "df['pulse'] = df['pulse'].apply(pd.to_numeric, errors='coerce')\n",
    "plt.hist(df['pulse'])"
   ]
  },
  {
   "cell_type": "code",
   "execution_count": null,
   "metadata": {},
   "outputs": [],
   "source": [
    "q1 = df['pulse'].quantile(0.25)\n",
    "q3 = df['pulse'].quantile(0.75)\n",
    "iqr = q3 - q1\n",
    "lower_outlier = q1 - iqr\n",
    "higher_outlier = q3 + iqr\n",
    "\n",
    "print(f\"Lower outlier margin: {lower_outlier:.1f}\")\n",
    "print(\"lowest pulse in dataset:\", df['pulse'].min())\n",
    "print('Number of lower outliers: ', sum(df['pulse'] < lower_outlier), '\\n')\n",
    "\n",
    "print(f\"Higher outlier margin: {higher_outlier:.1f}\")\n",
    "print(\"highest pulse in dataset:\", df['pulse'].max())\n",
    "print('Number of higher outliers:', sum(df['pulse'] > higher_outlier))"
   ]
  },
  {
   "cell_type": "markdown",
   "metadata": {},
   "source": [
    "Наш метод обнаружения выборосов не нашёл ничего подозрительного на нижней границе распределения.\n",
    "Зато на верхней границе обнаружилось 13 выбросов. Судя по данным из интернета, сердцебиение в 184 ударов в минуту у лошадей бывает.\n",
    "\n",
    "Гистограмма распределения имеет сильно ассиметричный вид с пиком в районе пульса здоровых особей и с длинным хвостом справа. Применённый метод поиска выбросов ориентирован на более симметричные распределения, поскольку для верхней и нижней граней имеет одинаковую форму. Нет оснований исключать из рассмотрения найденные \"выбросы\"."
   ]
  },
  {
   "cell_type": "code",
   "execution_count": null,
   "metadata": {},
   "outputs": [],
   "source": [
    "df['pulse']\n",
    "df['pulse'].isnull().sum()"
   ]
  },
  {
   "cell_type": "code",
   "execution_count": null,
   "metadata": {},
   "outputs": [],
   "source": [
    "(df['pulse'].\n",
    "    fillna(df.groupby(['age'])['pulse'].\n",
    "    transform('median'), inplace=True)\n",
    ")\n",
    "df['pulse'].describe()"
   ]
  },
  {
   "cell_type": "markdown",
   "metadata": {},
   "source": [
    "### 6. respiratory rate\n",
    "          - linear\n",
    "          - normal rate is 8 to 10\n",
    "          - usefulness is doubtful due to the great fluctuations"
   ]
  },
  {
   "cell_type": "code",
   "execution_count": 20,
   "metadata": {},
   "outputs": [
    {
     "data": {
      "text/plain": [
       "count     299\n",
       "unique     41\n",
       "top         ?\n",
       "freq       58\n",
       "Name: respiratory_rate, dtype: object"
      ]
     },
     "execution_count": 20,
     "metadata": {},
     "output_type": "execute_result"
    }
   ],
   "source": [
    "df['respiratory_rate'].describe()"
   ]
  },
  {
   "cell_type": "code",
   "execution_count": 21,
   "metadata": {},
   "outputs": [
    {
     "name": "stderr",
     "output_type": "stream",
     "text": [
      "/home/xbbt/.local/lib/python3.8/site-packages/numpy/lib/histograms.py:839: RuntimeWarning: invalid value encountered in greater_equal\n",
      "  keep = (tmp_a >= first_edge)\n",
      "/home/xbbt/.local/lib/python3.8/site-packages/numpy/lib/histograms.py:840: RuntimeWarning: invalid value encountered in less_equal\n",
      "  keep &= (tmp_a <= last_edge)\n"
     ]
    },
    {
     "data": {
      "text/plain": [
       "(array([53., 68., 45., 39., 13.,  6.,  4.,  3.,  5.,  5.]),\n",
       " array([ 8. , 16.8, 25.6, 34.4, 43.2, 52. , 60.8, 69.6, 78.4, 87.2, 96. ]),\n",
       " <BarContainer object of 10 artists>)"
      ]
     },
     "execution_count": 21,
     "metadata": {},
     "output_type": "execute_result"
    },
    {
     "data": {
      "image/png": "[encoded data removed]",
      "text/plain": [
       "<Figure size 432x288 with 1 Axes>"
      ]
     },
     "metadata": {
      "needs_background": "light"
     },
     "output_type": "display_data"
    }
   ],
   "source": [
    "df['respiratory_rate'] = (df['respiratory_rate'].\n",
    "    apply(pd.to_numeric, errors='coerce'))\n",
    "plt.hist(df['respiratory_rate'])"
   ]
  },
  {
   "cell_type": "code",
   "execution_count": 22,
   "metadata": {},
   "outputs": [
    {
     "name": "stdout",
     "output_type": "stream",
     "text": [
      "Lower outlier margin: 0.0\n",
      "lowest respiratory rate in dataset: 8.0\n",
      "Number of lower outliers:  0 \n",
      "\n",
      "Higher outlier margin: 54.0\n",
      "highest respiratory rate in dataset: 96.0\n",
      "Number of higher outliers: 22\n"
     ]
    }
   ],
   "source": [
    "q1 = df['respiratory_rate'].quantile(0.25)\n",
    "q3 = df['respiratory_rate'].quantile(0.75)\n",
    "iqr = q3 - q1\n",
    "lower_outlier = q1 - iqr\n",
    "higher_outlier = q3 + iqr\n",
    "\n",
    "print(f\"Lower outlier margin: {lower_outlier:.1f}\")\n",
    "print(\"lowest respiratory rate in dataset:\", df['respiratory_rate'].min())\n",
    "print('Number of lower outliers: ', sum(df['respiratory_rate'] < lower_outlier), '\\n')\n",
    "\n",
    "print(f\"Higher outlier margin: {higher_outlier:.1f}\")\n",
    "print(\"highest respiratory rate in dataset:\", df['respiratory_rate'].max())\n",
    "print('Number of higher outliers:', sum(df['respiratory_rate'] > higher_outlier))"
   ]
  },
  {
   "cell_type": "markdown",
   "metadata": {},
   "source": [
    "22 выброса нашла наша процедура. На гистограмме распределение частоты дыхания большинство из них находится в районе правого пика. Возможно, они действительно выбросы. Возможно, ветеринары чаще измеряют частоту дыхания, если она очевидным образом велика. На всякий случай исключим все значения выше 54."
   ]
  },
  {
   "cell_type": "code",
   "execution_count": 23,
   "metadata": {},
   "outputs": [
    {
     "name": "stderr",
     "output_type": "stream",
     "text": [
      "<ipython-input-23-bce0a61f4c77>:1: SettingWithCopyWarning: \n",
      "A value is trying to be set on a copy of a slice from a DataFrame\n",
      "\n",
      "See the caveats in the documentation: https://pandas.pydata.org/pandas-docs/stable/user_guide/indexing.html#returning-a-view-versus-a-copy\n",
      "  df['respiratory_rate'][df['respiratory_rate'] > 54] = np.nan\n"
     ]
    },
    {
     "data": {
      "text/plain": [
       "52.0"
      ]
     },
     "execution_count": 23,
     "metadata": {},
     "output_type": "execute_result"
    }
   ],
   "source": [
    "df['respiratory_rate'][df['respiratory_rate'] > 54] = np.nan\n",
    "df['respiratory_rate'].max()"
   ]
  },
  {
   "cell_type": "code",
   "execution_count": 24,
   "metadata": {},
   "outputs": [
    {
     "data": {
      "text/plain": [
       "80"
      ]
     },
     "execution_count": 24,
     "metadata": {},
     "output_type": "execute_result"
    }
   ],
   "source": [
    "df['respiratory_rate'].isnull().sum()"
   ]
  },
  {
   "cell_type": "markdown",
   "metadata": {},
   "source": [
    "В рассматриваемом столбце оказывается 80 пропущенных значений, что очень много. Из-за высокой вариабельности в частотсе дыхания ветеринары могут измерять частоту дыхания только при отдельных патологиях. В данной ситуации, на мой взгляд, лучше не замещать пропущенные значения, а использовать one-hot enconding."
   ]
  },
  {
   "cell_type": "markdown",
   "metadata": {},
   "source": [
    "### 7. peripheral pulse\n",
    "          - subjective\n",
    "          - possible values are:\n",
    "               1 = normal\n",
    "               2 = increased\n",
    "               3 = reduced\n",
    "               4 = absent\n",
    "          - normal or increased p.p. are indicative of adequate circulation\n",
    "            while reduced or absent indicate poor perfusion"
   ]
  },
  {
   "cell_type": "code",
   "execution_count": null,
   "metadata": {},
   "outputs": [],
   "source": [
    "df['peripheral_pulse'].describe()"
   ]
  },
  {
   "cell_type": "code",
   "execution_count": 28,
   "metadata": {},
   "outputs": [
    {
     "name": "stdout",
     "output_type": "stream",
     "text": [
      "count    230.000000\n",
      "mean       2.021739\n",
      "std        1.042527\n",
      "min        1.000000\n",
      "25%        1.000000\n",
      "50%        2.000000\n",
      "75%        3.000000\n",
      "max        4.000000\n",
      "Name: peripheral_pulse, dtype: float64\n"
     ]
    },
    {
     "data": {
      "text/plain": [
       "(array([114.,   0.,   0.,   5.,   0.,   0., 103.,   0.,   0.,   8.]),\n",
       " array([1. , 1.3, 1.6, 1.9, 2.2, 2.5, 2.8, 3.1, 3.4, 3.7, 4. ]),\n",
       " <BarContainer object of 10 artists>)"
      ]
     },
     "execution_count": 28,
     "metadata": {},
     "output_type": "execute_result"
    },
    {
     "data": {
      "image/png": "[encoded data removed]",
      "text/plain": [
       "<Figure size 432x288 with 1 Axes>"
      ]
     },
     "metadata": {
      "needs_background": "light"
     },
     "output_type": "display_data"
    }
   ],
   "source": [
    "df['peripheral_pulse'] = (df['peripheral_pulse'].\n",
    "    apply(pd.to_numeric, errors='coerce'))\n",
    "plt.hist(df['peripheral_pulse'])"
   ]
  },
  {
   "cell_type": "code",
   "execution_count": 33,
   "metadata": {},
   "outputs": [
    {
     "data": {
      "text/plain": [
       "count    230.000000\n",
       "mean       2.021739\n",
       "std        1.042527\n",
       "min        1.000000\n",
       "25%        1.000000\n",
       "50%        2.000000\n",
       "75%        3.000000\n",
       "max        4.000000\n",
       "Name: peripheral_pulse, dtype: float64"
      ]
     },
     "execution_count": 33,
     "metadata": {},
     "output_type": "execute_result"
    }
   ],
   "source": [
    "df['peripheral_pulse'].describe()"
   ]
  },
  {
   "cell_type": "code",
   "execution_count": 30,
   "metadata": {},
   "outputs": [
    {
     "name": "stdout",
     "output_type": "stream",
     "text": [
      "69\n"
     ]
    }
   ],
   "source": [
    "print(df['peripheral_pulse'].isnull().sum())"
   ]
  },
  {
   "cell_type": "markdown",
   "metadata": {},
   "source": [
    "Выбросов в столбце нет. Пропущенных значений довольно много, их нельзя откинуть без вреда для анализа данных. Возможно, в записи не попали данные о переферическом пульсе, когда он был неважен. Пропуски можно заменить значением моды т. е. 1 (нормальный пульс).  Дополнительно может быть полезен one-hot encoding."
   ]
  },
  {
   "cell_type": "code",
   "execution_count": 36,
   "metadata": {},
   "outputs": [
    {
     "data": {
      "text/plain": [
       "1.0    0.495652\n",
       "3.0    0.447826\n",
       "4.0    0.034783\n",
       "2.0    0.021739\n",
       "Name: peripheral_pulse, dtype: float64"
      ]
     },
     "execution_count": 36,
     "metadata": {},
     "output_type": "execute_result"
    }
   ],
   "source": [
    "df['peripheral_pulse'].value_counts(normalize=True)"
   ]
  },
  {
   "cell_type": "markdown",
   "metadata": {},
   "source": [
    "### 8. mucous membranes\n",
    "          - a subjective measurement of colour\n",
    "          - possible values are:\n",
    "               1 = normal pink\n",
    "               2 = bright pink\n",
    "               3 = pale pink\n",
    "               4 = pale cyanotic\n",
    "               5 = bright red / injected\n",
    "               6 = dark cyanotic\n",
    "          - 1 and 2 probably indicate a normal or slightly increased\n",
    "            circulation\n",
    "          - 3 may occur in early shock\n",
    "          - 4 and 6 are indicative of serious circulatory compromise\n",
    "          - 5 is more indicative of a septicemia"
   ]
  },
  {
   "cell_type": "code",
   "execution_count": 53,
   "metadata": {},
   "outputs": [
    {
     "data": {
      "text/plain": [
       "array(['?', '4', '3', '6', '1', '5', '2'], dtype=object)"
      ]
     },
     "execution_count": 53,
     "metadata": {},
     "output_type": "execute_result"
    }
   ],
   "source": [
    "df['mucous_membranes'].unique()"
   ]
  },
  {
   "cell_type": "code",
   "execution_count": 54,
   "metadata": {},
   "outputs": [
    {
     "name": "stderr",
     "output_type": "stream",
     "text": [
      "/home/xbbt/.local/lib/python3.8/site-packages/numpy/lib/histograms.py:839: RuntimeWarning: invalid value encountered in greater_equal\n",
      "  keep = (tmp_a >= first_edge)\n",
      "/home/xbbt/.local/lib/python3.8/site-packages/numpy/lib/histograms.py:840: RuntimeWarning: invalid value encountered in less_equal\n",
      "  keep &= (tmp_a <= last_edge)\n"
     ]
    },
    {
     "data": {
      "text/plain": [
       "(array([79.,  0., 30.,  0., 58.,  0., 41.,  0., 25., 20.]),\n",
       " array([1. , 1.5, 2. , 2.5, 3. , 3.5, 4. , 4.5, 5. , 5.5, 6. ]),\n",
       " <BarContainer object of 10 artists>)"
      ]
     },
     "execution_count": 54,
     "metadata": {},
     "output_type": "execute_result"
    },
    {
     "data": {
      "image/png": "[encoded data removed]",
      "text/plain": [
       "<Figure size 432x288 with 1 Axes>"
      ]
     },
     "metadata": {
      "needs_background": "light"
     },
     "output_type": "display_data"
    }
   ],
   "source": [
    "df['mucous_membranes'] = (df['mucous_membranes'].\n",
    "    apply(pd.to_numeric, errors='coerce'))\n",
    "plt.hist(df['mucous_membranes'])"
   ]
  },
  {
   "cell_type": "code",
   "execution_count": 55,
   "metadata": {},
   "outputs": [
    {
     "data": {
      "text/plain": [
       "47"
      ]
     },
     "execution_count": 55,
     "metadata": {},
     "output_type": "execute_result"
    }
   ],
   "source": [
    "df['mucous_membranes'].isnull().sum()"
   ]
  },
  {
   "cell_type": "markdown",
   "metadata": {},
   "source": [
    "В данном столбце довольно много пропущенных значений, исключить их всех из анализа было бы опрометчиво. Поскольку цвет слизистой упорядоченный нечисловой признак, замена средним невозможна. В данном случае можно сделать замену модой, сделав вариантом по умолчанию значений \"нормально розовый\"."
   ]
  },
  {
   "cell_type": "code",
   "execution_count": 56,
   "metadata": {},
   "outputs": [
    {
     "data": {
      "text/plain": [
       "count    253.000000\n",
       "mean       2.853755\n",
       "std        1.620294\n",
       "min        1.000000\n",
       "25%        1.000000\n",
       "50%        3.000000\n",
       "75%        4.000000\n",
       "max        6.000000\n",
       "Name: mucous_membranes, dtype: float64"
      ]
     },
     "execution_count": 56,
     "metadata": {},
     "output_type": "execute_result"
    }
   ],
   "source": [
    "df['mucous_membranes'].describe()"
   ]
  },
  {
   "cell_type": "code",
   "execution_count": 58,
   "metadata": {},
   "outputs": [
    {
     "data": {
      "text/plain": [
       "1.0    0.312253\n",
       "3.0    0.229249\n",
       "4.0    0.162055\n",
       "2.0    0.118577\n",
       "5.0    0.098814\n",
       "6.0    0.079051\n",
       "Name: mucous_membranes, dtype: float64"
      ]
     },
     "execution_count": 58,
     "metadata": {},
     "output_type": "execute_result"
    }
   ],
   "source": [
    "df['mucous_membranes'].value_counts(normalize=True)"
   ]
  }
 ],
 "metadata": {
  "kernelspec": {
   "display_name": "Python 3",
   "language": "python",
   "name": "python3"
  },
  "language_info": {
   "codemirror_mode": {
    "name": "ipython",
    "version": 3
   },
   "file_extension": ".py",
   "mimetype": "text/x-python",
   "name": "python",
   "nbconvert_exporter": "python",
   "pygments_lexer": "ipython3",
   "version": "3.8.5"
  }
 },
 "nbformat": 4,
 "nbformat_minor": 4
}
